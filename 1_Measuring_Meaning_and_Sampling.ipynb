{
  "cells": [
    {
      "cell_type": "markdown",
      "metadata": {
        "id": "JU1ThAa04KMB"
      },
      "source": [
        "# Week 1 - Measuring Meaning & Sampling\n",
        "This week, we begin by \"begging, borrowing and stealing\" text from several\n",
        "contexts of human communication (e.g., PDFs, HTML, Word) and preparing it for\n",
        "machines to \"read\" and analyze. This notebook outlines scraping text from the\n",
        "web, PDF and Word documents. Then we detail \"spidering\" or walking\n",
        "through hyperlinks to build samples of online content, and using APIs,\n",
        "Application Programming Interfaces, provided by webservices to access their\n",
        "content. Along the way, we will use regular expressions, outlined in the\n",
        "reading, to remove unwanted formatting and ornamentation. Finally, we discuss\n",
        "various text encodings, filtering and data structures in which text can be\n",
        "placed for analysis. Next, we ask you to begin building a corpus for preliminary analysis and articulate what your sample represents in context of your final project.\n",
        "\n",
        "If you are new to Google Colab, please take a look at [this brief introduction to the platform](https://colab.research.google.com/drive/1fV_2ZrdF-Vve8L7ZZAjanPS6tCh_HGnN). For each assignment on Colab, you should first click _File_ -> _Save a copy in Drive_ to create your own .ipynb file to submit. You will also need to run a cell like this if you are storing your data on Google Drive:"
      ]
    },
    {
      "cell_type": "code",
      "source": [
        "from google.colab import drive\n",
        "drive.mount(\"/content/drive\")\n"
      ],
      "metadata": {
        "id": "cG07PPAr5s2y",
        "colab": {
          "base_uri": "https://localhost:8080/"
        },
        "outputId": "e6a4c8b6-c84e-4cb4-c196-e2f8f342f14d"
      },
      "execution_count": 1,
      "outputs": [
        {
          "output_type": "stream",
          "name": "stdout",
          "text": [
            "Mounted at /content/drive\n"
          ]
        }
      ]
    },
    {
      "cell_type": "markdown",
      "metadata": {
        "id": "wsiychv-Omaw"
      },
      "source": [
        "We made a python package just for this course: lucem_illud. If you haven't installed this package, you should run the following code first. You don't need to install the package later; all you need to do is just to import the package with: import lucem_illud. For your final projects, you may find it useful to [read the lucem_illud source code](https://github.com/UChicago-Computational-Content-Analysis/lucem_illud/tree/main/lucem_illud) and modify your code for your own interests."
      ]
    },
    {
      "cell_type": "code",
      "execution_count": null,
      "metadata": {
        "id": "E5HYvEJeOmax"
      },
      "outputs": [],
      "source": [
        "!pip install git+git://github.com/UChicago-Computational-Content-Analysis/lucem_illud.git\n",
        "#installing lucem_illud package\n",
        "#lucem_illud is a Latin phrase meaning \"that light\", the insight we can discover in text data!\n",
        "#If you get an error like \"Access is denied\", try running the `pip` command on the command line as an administrator."
      ]
    },
    {
      "cell_type": "markdown",
      "metadata": {
        "id": "gml7JVVdOmaz"
      },
      "source": [
        "If you're not familiar with jupyter notebook, you may wonder what the exclamation mark(!) at the beginning of the command does (or even what pip means). The exclamation mark enables us to execute Terminal commands in the notebook cells (e.g., run `!ls` to display files in the current folder).\n",
        "\n",
        "For this notebook we will be using the following packages:"
      ]
    },
    {
      "cell_type": "code",
      "execution_count": 8,
      "metadata": {
        "id": "O8EOGoXbOma0"
      },
      "outputs": [],
      "source": [
        "#Special module written for this class\n",
        "#This provides access to data and to helper functions from previous weeks\n",
        "import lucem_illud #pip install git+git://github.com/UChicago-Computational-Content-Analysis/lucem_illud.git\n",
        "\n",
        "#All these packages need to be installed from pip\n",
        "import requests #for http requests\n",
        "import bs4 #called `beautifulsoup4`, an html parser\n",
        "import pandas #gives us DataFrames\n",
        "import docx #reading MS doc files, install as `python-docx`\n",
        "\n",
        "#Stuff for pdfs\n",
        "#Install as `pdfminer2`\n",
        "import pdfminer.pdfinterp\n",
        "import pdfminer.converter\n",
        "import pdfminer.layout\n",
        "import pdfminer.pdfpage\n",
        "\n",
        "#These come with Python\n",
        "import re #for regexs\n",
        "import urllib.parse #For joining urls\n",
        "import io #for making http requests look like files\n",
        "import json #For Tumblr API responses\n",
        "import os.path #For checking if files exist\n",
        "import os #For making directories"
      ]
    },
    {
      "cell_type": "markdown",
      "metadata": {
        "id": "1FBeOb62Oma1"
      },
      "source": [
        "We will also be working on the following files/urls"
      ]
    },
    {
      "cell_type": "code",
      "execution_count": null,
      "metadata": {
        "id": "FCg_QdR7Oma2"
      },
      "outputs": [],
      "source": [
        "wikipedia_base_url = 'https://en.wikipedia.org'\n",
        "wikipedia_content_analysis = 'https://en.wikipedia.org/wiki/Content_analysis'\n",
        "content_analysis_save = 'wikipedia_content_analysis.html'\n",
        "example_text_file = 'sometextfile.txt'\n",
        "information_extraction_pdf = 'https://github.com/Computational-Content-Analysis-2018/Data-Files/raw/master/1-intro/Content%20Analysis%2018.pdf'\n",
        "example_docx = 'https://github.com/Computational-Content-Analysis-2018/Data-Files/raw/master/1-intro/macs6000_connecting_to_midway.docx'\n",
        "example_docx_save = 'example.docx'"
      ]
    },
    {
      "cell_type": "markdown",
      "metadata": {
        "id": "bZM9Pw3lOma3"
      },
      "source": [
        "# Scraping\n",
        "\n",
        "Before we can start analyzing content we need to obtain it. Sometimes it will be\n",
        "provided to us from a pre-curated text archive, but sometimes we will need to\n",
        "download it. As a starting example we will attempt to download the wikipedia\n",
        "page on content analysis. The page is located at [https://en.wikipedia.org/wiki/Content_analysis](https://en.wikipedia.org/wiki/Content_analysis) so lets start\n",
        "with that.\n",
        "\n",
        "We can do this by making an HTTP GET request to that url, a GET request is\n",
        "simply a request to the server to provide the contents given by some url. The\n",
        "other request we will be using in this class is called a POST request and\n",
        "requests the server to take some content we provide. While the Python standard\n",
        "library does have the ability do make GET requests we will be using the\n",
        "[_requests_](http://docs.python-requests.org/en/master/) package as it is _'the\n",
        "only Non-GMO HTTP library for Python'_...also it provides a nicer interface."
      ]
    },
    {
      "cell_type": "code",
      "execution_count": null,
      "metadata": {
        "id": "hhzQ0oNBOma4",
        "colab": {
          "base_uri": "https://localhost:8080/"
        },
        "outputId": "69535295-ac21-483e-e8cf-45449bb7d0e1"
      },
      "outputs": [
        {
          "output_type": "execute_result",
          "data": {
            "text/plain": [
              "<Response [200]>"
            ]
          },
          "metadata": {},
          "execution_count": 23
        }
      ],
      "source": [
        "#wikipedia_content_analysis = 'https://en.wikipedia.org/wiki/Content_analysis'\n",
        "requests.get(wikipedia_content_analysis)"
      ]
    },
    {
      "cell_type": "markdown",
      "metadata": {
        "id": "OBLNFuYqOma5"
      },
      "source": [
        "`'Response [200]'` means the server responded with what we asked for. If you get\n",
        "another number (e.g. 404) it likely means there was some kind of error, these\n",
        "codes are called HTTP response codes and a list of them can be found\n",
        "[here](https://en.wikipedia.org/wiki/List_of_HTTP_status_codes). The response\n",
        "object contains all the data the server sent including the website's contents\n",
        "and the HTTP header. We are interested in the contents which we can access with\n",
        "the `.text` attribute."
      ]
    },
    {
      "cell_type": "code",
      "execution_count": null,
      "metadata": {
        "id": "0MX6yy-GOma6"
      },
      "outputs": [],
      "source": [
        "wikiContentRequest = requests.get(wikipedia_content_analysis)\n",
        "print(wikiContentRequest.text[:1000])"
      ]
    },
    {
      "cell_type": "markdown",
      "metadata": {
        "id": "v476yylWOma6"
      },
      "source": [
        "This is not what we were looking for, because it is the start of the HTML that\n",
        "makes up the website. This is HTML and is meant to be read by computers. Luckily\n",
        "we have a computer to parse it for us. To do the parsing we will use [_Beautiful\n",
        "Soup_](https://www.crummy.com/software/BeautifulSoup/) which is a better parser\n",
        "than the one in the standard library."
      ]
    },
    {
      "cell_type": "markdown",
      "metadata": {
        "id": "sKsCntAsOma7"
      },
      "source": [
        "But before we proceed to Beautiful Soup, a digression about Python syntax, especially about objects and functions.\n",
        "For those who are not familiar with the syntax of python (or, if you're familiar with R programming), you might wonder what requests.get or wikiContentRequest.text mean. To understand this, you need to first understand what objects are. You may have heard that Python is an object oriented programming language (unlike the procedure oriented programming language, an example of which is R). Object is a set of variables (or, data) and functions into which you pass your data. So, in object oriented programming languages, like python, variables and functions are bunleded into objects.\n",
        "\n",
        "For example, let's look at wikiContentRequest. We use dir() function, which returns the list of attributes and functions of objects."
      ]
    },
    {
      "cell_type": "code",
      "execution_count": null,
      "metadata": {
        "id": "bFWJZHqhOma7"
      },
      "outputs": [],
      "source": [
        " dir(wikiContentRequest)"
      ]
    },
    {
      "cell_type": "markdown",
      "metadata": {
        "id": "N2i8w-JwOma8"
      },
      "source": [
        "There's 'text' here. We used 'wikiContentRequest.text' to access 'text.' In other words, we use .(dot notation) to access functions from objects. wikiContentRequest has a set of functions, as shown above, and we used 'wikiContentRequest.text' to access one of them. By the way, dot notations do not necessarily refer to functions--it refers to anything that the entity contains. \n",
        "\n"
      ]
    },
    {
      "cell_type": "markdown",
      "metadata": {
        "id": "3heEYqz3Oma8"
      },
      "source": [
        "Moving on to the next step: BeautifulSoup, a Python library which extracts data from HTML and XML, and transforms HTML files into Python objects."
      ]
    },
    {
      "cell_type": "code",
      "execution_count": null,
      "metadata": {
        "id": "q9aPjhBQOma8"
      },
      "outputs": [],
      "source": [
        "wikiContentSoup = bs4.BeautifulSoup(wikiContentRequest.text, 'html.parser')\n",
        "print(wikiContentSoup.text[:200])"
      ]
    },
    {
      "cell_type": "markdown",
      "metadata": {
        "id": "x3nSYukpOma9"
      },
      "source": [
        "This is better but there's still random whitespace and we have more than just\n",
        "the text of the article. This is because what we requested is the whole webpage,\n",
        "not just the text for the article.\n",
        "\n",
        "We want to extract only the text we care about, and in order to do this we will\n",
        "need to inspect the html. One way to do this is simply to go to the website with\n",
        "a browser and use its inspection or view source tool. If javascript or other\n",
        "dynamic loading occurs on the page, however, it is likely that what Python\n",
        "receives is not what you will see, so we will need to inspect what Python\n",
        "receives. To do this we can save the html `requests` obtained."
      ]
    },
    {
      "cell_type": "code",
      "execution_count": null,
      "metadata": {
        "id": "ZcLAorw7Oma9"
      },
      "outputs": [],
      "source": [
        "#content_analysis_save = 'wikipedia_content_analysis.html'\n",
        "\n",
        "with open(content_analysis_save, mode='w', encoding='utf-8') as f:\n",
        "    f.write(wikiContentRequest.text)"
      ]
    },
    {
      "cell_type": "markdown",
      "metadata": {
        "id": "I7zi62goOma9"
      },
      "source": [
        "open() is a function which literally opens and returns the file. This function has multiple modes, and, here, we used mode as 'w', which means: open a file for writing. And then, we use 'write' function to write on the empty file (content_analysis_save) that we created using open(content_analysis_save, mode='w', encoding='utf-8').} What did we write on this file? The text we got from wikiContentRequest.text"
      ]
    },
    {
      "cell_type": "markdown",
      "metadata": {
        "id": "z9-kcKydOma-"
      },
      "source": [
        "Now let's open the file (`wikipedia_content_analysis.html`) we just created with\n",
        "a web browser. It should look sort of like the original but without the images\n",
        "and formatting.\n",
        "\n",
        "As there is very little standardization on structuring webpages, figuring out\n",
        "how best to extract what you want is an art. Looking at this page it looks like\n",
        "all the main textual content is inside `<p>`(paragraph) tags within the `<body>`\n",
        "tag. "
      ]
    },
    {
      "cell_type": "code",
      "execution_count": null,
      "metadata": {
        "scrolled": true,
        "id": "UTiDo5jGOma-"
      },
      "outputs": [],
      "source": [
        "contentPTags = wikiContentSoup.body.findAll('p')\n",
        "for pTag in contentPTags[:3]:\n",
        "    print(pTag.text)"
      ]
    },
    {
      "cell_type": "markdown",
      "metadata": {
        "id": "K-HEFlXROma-"
      },
      "source": [
        "Another excursion for those who are not familiar with programming: for loop. For loop is used to iterate over a sequence. \"ContentPTags\" contains multiple paragraphs, each of which starts and ends with `<p>`. What the \"for pTag in contentPtags[:3]\" does here is: find each paragraph in contentPTags, which, here, we limited to the first three using contentPtags[:3], and then print each paragraph. So, we have three paragraphs. By the way, you can insert `<p>` in juputer notebook!"
      ]
    },
    {
      "cell_type": "markdown",
      "metadata": {
        "id": "P3WbGS2aOma_"
      },
      "source": [
        "We now have all the text from the page, split up by paragraph. If we wanted to\n",
        "get the section headers or references as well it would require a bit more work,\n",
        "but is doable.\n",
        "\n",
        "There is one more thing we might want to do before sending this text to be\n",
        "processed, remove the references indicators (`[2]`, `[3]` , etc). To do this we\n",
        "can use a short regular expression (regex)."
      ]
    },
    {
      "cell_type": "code",
      "execution_count": null,
      "metadata": {
        "id": "W1Km-YmsOma_"
      },
      "outputs": [],
      "source": [
        "contentParagraphs = []\n",
        "for pTag in contentPTags:\n",
        "    #strings starting with r are raw so their \\'s are not modifier characters\n",
        "    #If we didn't start with r the string would be: '\\\\[\\\\d+\\\\]'\n",
        "    contentParagraphs.append(re.sub(r'\\[\\d+\\]', '', pTag.text))\n",
        "\n",
        "#convert to a DataFrame\n",
        "contentParagraphsDF = pandas.DataFrame({'paragraph-text' : contentParagraphs})\n",
        "print(contentParagraphsDF)"
      ]
    },
    {
      "cell_type": "markdown",
      "metadata": {
        "id": "32iXyFviOma_"
      },
      "source": [
        "Since we learned how to do for loop, you might get what we did here: using contentParagraphs = [], we made an empty list; and then, for each paragraph in contentPTags, we substituted every [\\d+\\] with '', i.e., removed every [\\d+\\], and then appended each paragraph (now without [\\d+\\]) to the empty list. As we can see, we have a dataframe, each row of which is each paragraph of contentPTags, without reference indicators. \n",
        "\n",
        "By the way, what does [\\d+\\] mean? If you are not familiar with regex, it is a way of specifying searches in text.\n",
        "A regex engine takes in the search pattern, in the above case `'\\[\\d+\\]'` and\n",
        "some string, the paragraph texts. Then it reads the input string one character\n",
        "at a time checking if it matches the search. Here the regex `'\\d'` matches\n",
        "number characters (while `'\\['` and `'\\]'` capture the braces on either side)."
      ]
    },
    {
      "cell_type": "markdown",
      "metadata": {
        "id": "Ta624Xp-Oma_"
      },
      "source": [
        "Now we have a `DataFrame` containing all relevant text from the page ready to be processed"
      ]
    },
    {
      "cell_type": "code",
      "execution_count": null,
      "metadata": {
        "id": "aMRe7UEvOma_",
        "colab": {
          "base_uri": "https://localhost:8080/"
        },
        "outputId": "de34182f-19b5-4706-d9b3-c524b689b85c"
      },
      "outputs": [
        {
          "output_type": "execute_result",
          "data": {
            "text/plain": [
              "<re.Match object; span=(36, 37), match='2'>"
            ]
          },
          "metadata": {},
          "execution_count": 12
        }
      ],
      "source": [
        "findNumber = r'\\d'\n",
        "regexResults = re.search(findNumber, 'not a number, not a number, numbers 2134567890, not a number')\n",
        "regexResults"
      ]
    },
    {
      "cell_type": "markdown",
      "metadata": {
        "id": "70nwprj2OmbA"
      },
      "source": [
        "In Python the regex package (`re`) usually returns `Match` objects (you can have\n",
        "multiple pattern hits in a a single `Match`), to get the string that matched our\n",
        "pattern we can use the `.group()` method, and as we want the first one we will\n",
        "ask for the 0'th group."
      ]
    },
    {
      "cell_type": "code",
      "execution_count": null,
      "metadata": {
        "id": "YPz34LJiOmbA",
        "colab": {
          "base_uri": "https://localhost:8080/"
        },
        "outputId": "f3417c02-7ec9-471b-9293-0d8c4a434626"
      },
      "outputs": [
        {
          "output_type": "stream",
          "name": "stdout",
          "text": [
            "2\n"
          ]
        }
      ],
      "source": [
        "print(regexResults.group(0))"
      ]
    },
    {
      "cell_type": "markdown",
      "metadata": {
        "id": "xu-YZGe4OmbA"
      },
      "source": [
        "That gives us the first number, if we wanted the whole block of numbers we can\n",
        "add a wildcard `'+'` which requests 1 or more instances of the preceding\n",
        "character."
      ]
    },
    {
      "cell_type": "code",
      "execution_count": null,
      "metadata": {
        "id": "stERg5HHOmbA",
        "colab": {
          "base_uri": "https://localhost:8080/"
        },
        "outputId": "afaa5d18-09a3-4fba-e6a5-1a0b8bb4536f"
      },
      "outputs": [
        {
          "output_type": "stream",
          "name": "stdout",
          "text": [
            "2134567890\n"
          ]
        }
      ],
      "source": [
        "findNumbers = r'\\d+'\n",
        "regexResults = re.search(findNumbers, 'not a number, not a number, numbers 2134567890, not a number')\n",
        "print(regexResults.group(0))"
      ]
    },
    {
      "cell_type": "markdown",
      "metadata": {
        "id": "DczZWZWeOmbB"
      },
      "source": [
        "Now we have the whole block of numbers, there are a huge number of special\n",
        "characters in regex, for the full description of Python's implementation look at\n",
        "the [re docs](https://docs.python.org/3/library/re.html) there is also a short\n",
        "[tutorial](https://docs.python.org/3/howto/regex.html#regex-howto)."
      ]
    },
    {
      "cell_type": "markdown",
      "metadata": {
        "id": "vVTLl6J-OmbB"
      },
      "source": [
        "# <font color=\"red\">Exercise 1</font>\n",
        "<font color=\"red\">Construct cells immediately below this that describe and download webcontent relating to your anticipated final project. Use beautiful soup and at least five regular expressions to extract relevant, nontrivial *chunks* of that content (e.g., cleaned sentences, paragraphs, etc.) to a pandas `Dataframe`.</font>"
      ]
    },
    {
      "cell_type": "markdown",
      "source": [
        "freeweibo.com is a site that makes public censored posts from Sina Weibo (a Twitter-like social media platform in China). I'm interested to see what/how much posts are censored related to the constitutional amendment in China in 2018.\n",
        "\n",
        "Here, I narrow my search with the keyword \"修宪“, meaning the constitutional amendment and extract information such as the content of the each post and the username of the post publisher."
      ],
      "metadata": {
        "id": "FmuGlQhEChCO"
      }
    },
    {
      "cell_type": "code",
      "source": [
        "# get url \n",
        "fwb_xiuxian = 'https://freeweibo.com/weibo/修宪?latest'\n",
        "xiuxianContentRequest = requests.get(fwb_xiuxian)\n",
        "xiuxian_soup = bs4.BeautifulSoup(xiuxianContentRequest.content, 'html.parser')"
      ],
      "metadata": {
        "id": "VVaLEn-ECe_a"
      },
      "execution_count": null,
      "outputs": []
    },
    {
      "cell_type": "code",
      "source": [
        "# extract content\n",
        "all_posts = xiuxian_soup.select('.content')\n",
        "\n",
        "posts = []\n",
        "for p in all_posts[:-1]:\n",
        "  text = re.sub('<[^>]+>', '', p.text)\n",
        "  d = {}\n",
        "  # seperate username and content\n",
        "  d[\"username\"] = text.split('：', 1)[0]\n",
        "  content = text.split('：', 1)[1]\n",
        "  # clean text\n",
        "  content = re.sub(\"http://[a-zA-z./\\d]*\",\"\",content) # remove url\n",
        "  content = re.sub(\"\\[.{0,12}\\]\",\"\",content) # remove emoji\n",
        "  content = re.sub(\"【.{0,30}】\",\"\",content) # remove tag\n",
        "  content = re.sub(\"#.{0,30}#\",\"\",content)\n",
        "  content = re.sub(\"\\s\",\"\",content) # remove space\n",
        "  content = re.sub(\"\\u200b\",\"\",content)\n",
        "  d[\"content\"] = content\n",
        "  posts.append(d)\n"
      ],
      "metadata": {
        "id": "GcaRIJhuVeHK"
      },
      "execution_count": null,
      "outputs": []
    },
    {
      "cell_type": "code",
      "source": [
        "# convert to pandas df\n",
        "posts_df = pandas.DataFrame(data=posts)\n",
        "print(posts_df)"
      ],
      "metadata": {
        "colab": {
          "base_uri": "https://localhost:8080/"
        },
        "id": "lMSehSniWhU8",
        "outputId": "2a25126b-190c-46e4-dedf-a8f0a53793e8"
      },
      "execution_count": null,
      "outputs": [
        {
          "output_type": "stream",
          "name": "stdout",
          "text": [
            "      username                                            content\n",
            "0       台湾那点事儿  有媒体提问，近日民进党当局在其“宪法法庭”英文名称上加注“Taiwan”，后又删改。请问发言...\n",
            "1        美国侨报网  国民党团总召费鸿泰4日表示，宪政小组开会初步确立下修18岁公民投票权、立法院阁揆同意权，以及...\n",
            "2    扎西德勒·天珠收藏         我发表了头条文章:《突发！安倍借台湾公然鼓吹修宪！》°突发！安倍借台湾公然鼓吹修宪！\n",
            "3          虎掰掰  俄罗斯要修宪了，普京本人非常坚持要全民公投。然而据我在莫斯科的朋友说，在公投前新版的宪法就已...\n",
            "4   中天電視官方NEWS  蔡英文今发表520就职演说，两岸方面重申“和平、对等、民主、对话”8字箴言，未来处理两岸事务...\n",
            "5      香港衛視HKS  俄罗斯国家杜马10日通过《俄罗斯联邦宪法》修正案草案二读，参加国家杜马全会的382名代表对草...\n",
            "6         观察者网  据今日俄罗斯报道，俄国家杜马决定，将在4月22日，对修宪条款进行全民公投，其中包括部分议员此...\n",
            "7           宁灵                    普京向杜马提交修宪草案：扩大杜马权限修改总统任期限制-国际在线\n",
            "8          鲍迪克  修1宪用了几年，贸易战对策，我们几周就拿出来了，效率高多了。右边是没脑子还是没学过算术？//...\n",
            "9          大漠鱼  中南财经政法大学女副教授翟桔红，上月底在授课时批评人大宪法修改，被学校斥妄议中国人大制度，片...\n",
            "10          凯雷  今日两会看点，宪法草案表决。昨偶遇外媒拦住一位委员问修宪，定睛一看原来是央视纪录片导演@夏蒙...\n",
            "11       陈军001  张千帆：人民是宪法的最终解释者与判断者。无论是修宪、立法还是制宪，最重要的是得民心。过去四次...\n",
            "12         朱增光  修宪这种事情，一般是为了增进人民的自由限制公权力，反过来干的，还真少见，没想到竟然让我们遇到...\n",
            "13         张家干  宪法本身有一个规范等级秩序，而不是条文的简单堆积，有些条文比其它条文更基本、更重要，因而地位...\n",
            "14         超级立                支持中央修宪建议，这是理性也是信仰！longlivechiefmao！\n",
            "15     沙罗双树园园丁  对皇帝的渴求，对集权威权的崇拜和畏惧，100多年过去了并没有什么改变。现在看来，如果戊戌变法...\n",
            "16       安立志微博  九十年代的修宪，有废除计划经济、有保障人权，有保护私有财产，……感到了国家的进步与社会的文明...\n",
            "17   Hot_Money                              26年后的今天，十九届二中全会召开，修宪。\n",
            "18        角马画室  那个不是“突突”，而是“神打潮”，在练习刀枪不入。@歴史钩沉:就业风险好大~居然会有被突突的...\n",
            "19         静娅_  风头有问题，似乎一直有人试图挑战执政党主导的改革开放、市场经济。//@郑克强:应该修宪以后再...\n"
          ]
        }
      ]
    },
    {
      "cell_type": "markdown",
      "metadata": {
        "id": "8jW4D33OOmbB"
      },
      "source": [
        "\n",
        "# Spidering\n",
        "\n",
        "What if we want to to get a bunch of different pages from wikipedia. We would\n",
        "need to get the url for each of the pages we want. Typically, we want pages that\n",
        "are linked to by other pages and so we will need to parse pages and identify the\n",
        "links. Right now we will be retrieving all links in the body of the content\n",
        "analysis page.\n",
        "\n",
        "To do this we will need to find all the `<a>` (anchor) tags with `href`s\n",
        "(hyperlink references) inside of `<p>` tags. `href` can have many\n",
        "[different](http://stackoverflow.com/questions/4855168/what-is-href-and-why-is-\n",
        "it-used) [forms](https://en.wikipedia.org/wiki/Hyperlink#Hyperlinks_in_HTML) so\n",
        "dealing with them can be tricky, but generally, you will want to extract\n",
        "absolute or relative links. An absolute link is one you can follow without\n",
        "modification, while a relative link requires a base url that you will then\n",
        "append. Wikipedia uses relative urls for its internal links: below is an example\n",
        "for dealing with them."
      ]
    },
    {
      "cell_type": "code",
      "execution_count": null,
      "metadata": {
        "id": "qdkr4sdqOmbB",
        "colab": {
          "base_uri": "https://localhost:8080/"
        },
        "outputId": "177d5459-8449-46cd-fa75-58969e07c694"
      },
      "outputs": [
        {
          "output_type": "stream",
          "name": "stdout",
          "text": [
            "[('https://en.wikipedia.org/wiki/Document', 4, 'documents'), ('https://en.wikipedia.org/wiki/Text_(literary_theory)', 5, 'texts'), ('https://en.wikipedia.org/wiki/Coding_(social_sciences)', 5, 'assigned labels (sometimes called codes)'), ('https://en.wikipedia.org/wiki/Semantics', 5, 'meaningful'), ('https://en.wikipedia.org/wiki/Text_(literary_theory)', 5, 'texts'), ('https://en.wikipedia.org/wiki/Quantitative_research', 5, 'quantitatively'), ('https://en.wikipedia.org/wiki/Statistics', 5, 'statistical methods'), ('https://en.wikipedia.org/wiki/Qualitative_research', 5, 'qualitative'), ('https://en.wikipedia.org/wiki/Text_(literary_theory)', 5, 'texts'), ('https://en.wikipedia.org/wiki/Machine_learning', 6, 'Machine learning')]\n"
          ]
        }
      ],
      "source": [
        "#wikipedia_base_url = 'https://en.wikipedia.org'\n",
        "\n",
        "otherPAgeURLS = []\n",
        "#We also want to know where the links come from so we also will get:\n",
        "#the paragraph number\n",
        "#the word the link is in\n",
        "for paragraphNum, pTag in enumerate(contentPTags):\n",
        "    #we only want hrefs that link to wiki pages\n",
        "    tagLinks = pTag.findAll('a', href=re.compile('/wiki/'), class_=False)\n",
        "    for aTag in tagLinks:\n",
        "        #We need to extract the url from the <a> tag\n",
        "        relurl = aTag.get('href')\n",
        "        linkText = aTag.text\n",
        "        #wikipedia_base_url is the base we can use the urllib joining function to merge them\n",
        "        #Giving a nice structured tupe like this means we can use tuple expansion later\n",
        "        otherPAgeURLS.append((\n",
        "            urllib.parse.urljoin(wikipedia_base_url, relurl),\n",
        "            paragraphNum,\n",
        "            linkText,\n",
        "        ))\n",
        "print(otherPAgeURLS[:10])"
      ]
    },
    {
      "cell_type": "code",
      "execution_count": null,
      "metadata": {
        "id": "VXTYESNnOmbC",
        "colab": {
          "base_uri": "https://localhost:8080/"
        },
        "outputId": "06ebbf34-25c7-4be4-d9ff-c0408fa7a991"
      },
      "outputs": [
        {
          "output_type": "stream",
          "name": "stdout",
          "text": [
            "[<p><b>South Asia </b>\n",
            "</p>, <p><b>Middle East</b>\n",
            "</p>, <p><b>Europe</b>\n",
            "</p>, <p><b>North America</b>\n",
            "</p>, <p><b>Content analysis</b> is the study of <a href=\"/wiki/Document\" title=\"Document\">documents</a> and communication artifacts, which might be texts of various formats, pictures, audio or video. Social scientists use content analysis to examine patterns in communication in a replicable and systematic manner.<sup class=\"reference\" id=\"cite_ref-1\"><a href=\"#cite_note-1\">[1]</a></sup> One of the key advantages of using content analysis to analyse social phenomena is its non-invasive nature, in contrast to simulating social experiences or collecting survey answers.\n",
            "</p>, <p>Practices and philosophies of content analysis vary between academic disciplines. They all involve systematic reading or observation of <a href=\"/wiki/Text_(literary_theory)\" title=\"Text (literary theory)\">texts</a> or artifacts which are <a href=\"/wiki/Coding_(social_sciences)\" title=\"Coding (social sciences)\">assigned labels (sometimes called codes)</a> to indicate the presence of interesting, <a href=\"/wiki/Semantics\" title=\"Semantics\">meaningful</a> pieces of content.<sup class=\"reference\" id=\"cite_ref-2\"><a href=\"#cite_note-2\">[2]</a></sup><sup class=\"reference\" id=\"cite_ref-Tipaldo_2014_42_3-0\"><a href=\"#cite_note-Tipaldo_2014_42-3\">[3]</a></sup> By systematically labeling the content of a set of <a href=\"/wiki/Text_(literary_theory)\" title=\"Text (literary theory)\">texts</a>, researchers can analyse patterns of content <a href=\"/wiki/Quantitative_research\" title=\"Quantitative research\">quantitatively</a> using <a href=\"/wiki/Statistics\" title=\"Statistics\">statistical methods</a>, or use <a href=\"/wiki/Qualitative_research\" title=\"Qualitative research\">qualitative</a> methods to analyse meanings of content within <a href=\"/wiki/Text_(literary_theory)\" title=\"Text (literary theory)\">texts</a>.\n",
            "</p>, <p>Computers are increasingly used in content analysis to automate the labeling (or coding) of documents. Simple computational techniques can provide descriptive data such as word frequencies and document lengths. <a href=\"/wiki/Machine_learning\" title=\"Machine learning\">Machine learning</a> classifiers can greatly increase the number of texts that can be labeled, but the scientific utility of doing so is a matter of debate. Further, numerous computer-aided text analysis (CATA) computer programs are available that analyze text for pre-determined linguistic, semantic, and psychological characteristics.<sup class=\"reference\" id=\"cite_ref-Neuendorf2016_4-0\"><a href=\"#cite_note-Neuendorf2016-4\">[4]</a></sup>\n",
            "</p>, <p>Content analysis is best understood as a broad family of techniques. Effective researchers choose techniques that best help them answer their substantive questions. That said, according to <a href=\"/wiki/Klaus_Krippendorff\" title=\"Klaus Krippendorff\">Klaus Krippendorff</a>, six questions must be addressed in every content analysis:<sup class=\"reference\" id=\"cite_ref-Krippendorff2004_5-0\"><a href=\"#cite_note-Krippendorff2004-5\">[5]</a></sup>\n",
            "</p>, <p>The simplest and most objective form of content analysis considers unambiguous characteristics of the text such as <a class=\"mw-redirect\" href=\"/wiki/Word_frequencies\" title=\"Word frequencies\">word frequencies</a>, the page area taken by a newspaper column, or the duration of a <a href=\"/wiki/Radio\" title=\"Radio\">radio</a> or <a href=\"/wiki/Television\" title=\"Television\">television</a> program. Analysis of simple word frequencies is limited because the meaning of a word depends on surrounding text.  <a href=\"/wiki/Key_Word_in_Context\" title=\"Key Word in Context\">Key Word In Context</a> (KWIC) routines address this by placing words in their textual context. This helps resolve ambiguities such as those introduced by <a href=\"/wiki/Synonym\" title=\"Synonym\">synonyms</a> and <a href=\"/wiki/Homonym\" title=\"Homonym\">homonyms</a>.\n",
            "</p>, <p>A further step in analysis is the distinction between dictionary-based (quantitative) approaches and qualitative approaches. Dictionary-based approaches set up a list of categories derived from the frequency list of words and control the distribution of words and their respective categories over the texts. While methods in quantitative content analysis in this way transform observations of found categories into quantitative statistical data, the qualitative content analysis focuses more on the intentionality and its implications. There are strong parallels between qualitative content analysis and <a href=\"/wiki/Thematic_analysis\" title=\"Thematic analysis\">thematic analysis</a>.<sup class=\"reference\" id=\"cite_ref-6\"><a href=\"#cite_note-6\">[6]</a></sup>\n",
            "</p>, <p>Quantitative content analysis highlights frequency counts and objective analysis of these coded frequencies.<sup class=\"reference\" id=\"cite_ref-:03_7-0\"><a href=\"#cite_note-:03-7\">[7]</a></sup> Additionally, quantitative content analysis begins with a framed hypothesis with coding decided on before the analysis begins. These coding categories are strictly relevant to the researcher's hypothesis. Quantitative analysis also takes a deductive approach.<sup class=\"reference\" id=\"cite_ref-:12_8-0\"><a href=\"#cite_note-:12-8\">[8]</a></sup>\n",
            "</p>, <p><a href=\"/wiki/Siegfried_Kracauer\" title=\"Siegfried Kracauer\">Siegfried Kracauer</a> provides a critique of quantitative analysis, asserting that it oversimplifies complex communications in order to be more reliable. On the other hand, qualitative analysis deals with the intricacies of latent interpretations, whereas quantitative has a focus on manifest meanings. He also acknowledges an \"overlap\" of qualitative and quantitative content analysis.<sup class=\"reference\" id=\"cite_ref-:03_7-1\"><a href=\"#cite_note-:03-7\">[7]</a></sup> Patterns are looked at more closely in qualitative analysis, and based on the latent meanings that the researcher may find, the course of the research could be changed. It is inductive and begins with open research questions, as opposed to a hypothesis.<sup class=\"reference\" id=\"cite_ref-:12_8-1\"><a href=\"#cite_note-:12-8\">[8]</a></sup>\n",
            "</p>, <p>With the rise of common computing facilities like PCs, computer-based methods of analysis are growing in popularity.<sup class=\"reference\" id=\"cite_ref-9\"><a href=\"#cite_note-9\">[9]</a></sup><sup class=\"reference\" id=\"cite_ref-10\"><a href=\"#cite_note-10\">[10]</a></sup><sup class=\"reference\" id=\"cite_ref-11\"><a href=\"#cite_note-11\">[11]</a></sup> Answers to open ended questions, newspaper articles, political party manifestos, medical records or systematic observations in experiments can all be subject to systematic analysis of textual data.\n",
            "</p>, <p>By having contents of communication available in form of machine readable texts, the input is analyzed for frequencies and coded into categories for building up inferences.\n",
            "</p>, <p>Computer-assisted analysis can help with large, electronic data sets by cutting out time and eliminating the need for multiple human coders to establish inter-coder reliability. However, human coders can still be employed for content analysis, as they are often more able to pick out nuanced and latent meanings in text. A study  found that human coders were able to evaluate a broader range and make inferences based on latent meanings.<sup class=\"reference\" id=\"cite_ref-12\"><a href=\"#cite_note-12\">[12]</a></sup>\n",
            "</p>, <p>Robert Weber notes: \"To make valid inferences from the text, it is important that the classification procedure be reliable in the sense of being consistent: Different people should code the same text in the same way\".<sup class=\"reference\" id=\"cite_ref-13\"><a href=\"#cite_note-13\">[13]</a></sup> The validity, inter-coder reliability and intra-coder reliability are subject to intense methodological research efforts over long years.<sup class=\"reference\" id=\"cite_ref-Krippendorff2004_5-1\"><a href=\"#cite_note-Krippendorff2004-5\">[5]</a></sup>\n",
            "Neuendorf suggests that when human coders are used in content analysis at least two independent coders should be used. Reliability of human coding is often measured using a statistical measure of <i>inter-coder reliability</i> or \"the amount of agreement or correspondence among two or more coders\".<sup class=\"reference\" id=\"cite_ref-Neuendorf2016_4-1\"><a href=\"#cite_note-Neuendorf2016-4\">[4]</a></sup> Lacy and Riffe identify the measurement of inter-coder reliability as a strength of quantitative content analysis, arguing that, if content analysts do not measure inter-coder reliability, their data are no more reliable than the subjective impressions of a single reader.<sup class=\"reference\" id=\"cite_ref-14\"><a href=\"#cite_note-14\">[14]</a></sup>\n",
            "</p>, <p>There are five types of texts in content analysis:\n",
            "</p>, <p>Content analysis is research using the categorization and classification of speech, written text, interviews, images, or other forms of communication.  In its beginnings, using the first newspapers at the end of the 19th century, analysis was done manually by measuring the number of columns given a subject. The approach can also be traced back to a university student studying patterns in Shakespeare's literature in 1893.<sup class=\"reference\" id=\"cite_ref-15\"><a href=\"#cite_note-15\">[15]</a></sup>\n",
            "</p>, <p>Over the years, content analysis has been applied to a variety of scopes. <a href=\"/wiki/Hermeneutics\" title=\"Hermeneutics\">Hermeneutics</a> and <a href=\"/wiki/Philology\" title=\"Philology\">philology</a> have long used content analysis to interpret sacred and profane texts and, in many cases, to attribute texts' <a class=\"mw-redirect\" href=\"/wiki/Authorship\" title=\"Authorship\">authorship</a> and <a href=\"/wiki/Authentication\" title=\"Authentication\">authenticity</a>.<sup class=\"reference\" id=\"cite_ref-Tipaldo_2014_42_3-1\"><a href=\"#cite_note-Tipaldo_2014_42-3\">[3]</a></sup><sup class=\"reference\" id=\"cite_ref-Krippendorff2004_5-2\"><a href=\"#cite_note-Krippendorff2004-5\">[5]</a></sup>\n",
            "</p>, <p>In recent times, particularly with the advent of <a href=\"/wiki/Mass_communication\" title=\"Mass communication\">mass communication</a>, content analysis has known an increasing use to deeply analyze and understand media content and <a class=\"new\" href=\"/w/index.php?title=Media_logic&amp;action=edit&amp;redlink=1\" title=\"Media logic (page does not exist)\">media logic</a>. \n",
            "The political scientist <a href=\"/wiki/Harold_Lasswell\" title=\"Harold Lasswell\">Harold Lasswell</a> formulated the core questions of content analysis in its early-mid 20th-century mainstream version: \"Who says what, to whom, why, to what extent and with what effect?\".<sup class=\"reference\" id=\"cite_ref-16\"><a href=\"#cite_note-16\">[16]</a></sup> The strong emphasis for a quantitative approach started up by Lasswell was finally carried out by another \"father\" of content analysis, <a href=\"/wiki/Bernard_Berelson\" title=\"Bernard Berelson\">Bernard Berelson</a>, who proposed a definition of content analysis which, from this point of view, is emblematic: \"a research technique for the objective, systematic and quantitative description of the manifest content of communication\".<sup class=\"reference\" id=\"cite_ref-Berelson1952_17-0\"><a href=\"#cite_note-Berelson1952-17\">[17]</a></sup>\n",
            "</p>, <p>Quantitative content analysis has enjoyed a renewed popularity in recent years thanks to technological advances and fruitful application in of mass communication and personal communication research. Content analysis of textual <a href=\"/wiki/Big_data\" title=\"Big data\">big data</a> produced by <a href=\"/wiki/New_media\" title=\"New media\">new media</a>, particularly <a href=\"/wiki/Social_media\" title=\"Social media\">social media</a> and <a class=\"mw-redirect\" href=\"/wiki/Mobile_devices\" title=\"Mobile devices\">mobile devices</a> has become popular. These approaches take a simplified view of language that ignores the complexity of semiosis, the process by which meaning is formed out of language. Quantitative content analysts have been criticized for limiting the scope of content analysis to simple counting, and for applying the measurement methodologies of the natural sciences without reflecting critically on their appropriateness to social science.<sup class=\"reference\" id=\"cite_ref-:0_18-0\"><a href=\"#cite_note-:0-18\">[18]</a></sup> Conversely, qualitative content analysts have been criticized for being insufficiently systematic and too impressionistic.<sup class=\"reference\" id=\"cite_ref-:0_18-1\"><a href=\"#cite_note-:0-18\">[18]</a></sup> Krippendorff argues that quantitative and qualitative approaches to content analysis tend to overlap, and that there can be no generalisable conclusion as to which approach is superior.<sup class=\"reference\" id=\"cite_ref-:0_18-2\"><a href=\"#cite_note-:0-18\">[18]</a></sup>\n",
            "</p>, <p>Content analysis can also be described as studying <a href=\"/wiki/Trace_evidence\" title=\"Trace evidence\">traces</a>, which are documents from past times, and artifacts, which are non-linguistic documents. Texts are understood to be produced by communication processes in a broad sense of that phrase—often gaining mean through <a href=\"/wiki/Abductive_reasoning\" title=\"Abductive reasoning\">abduction</a>.<sup class=\"reference\" id=\"cite_ref-Tipaldo_2014_42_3-2\"><a href=\"#cite_note-Tipaldo_2014_42-3\">[3]</a></sup><sup class=\"reference\" id=\"cite_ref-19\"><a href=\"#cite_note-19\">[19]</a></sup>\n",
            "</p>, <p>Manifest content is readily understandable at its face value. Its meaning is direct. Latent content is not as overt, and requires interpretation to uncover the meaning or implication.<sup class=\"reference\" id=\"cite_ref-20\"><a href=\"#cite_note-20\">[20]</a></sup>\n",
            "</p>, <p>Holsti groups fifteen uses of content analysis into three basic <a class=\"mw-redirect\" href=\"/wiki/Categorisation\" title=\"Categorisation\">categories</a>:<sup class=\"reference\" id=\"cite_ref-Holsti1969_21-0\"><a href=\"#cite_note-Holsti1969-21\">[21]</a></sup>\n",
            "</p>, <p>He also places these uses into the context of the basic communication <a href=\"/wiki/Paradigm\" title=\"Paradigm\">paradigm</a>.\n",
            "</p>, <p>The following table shows fifteen uses of content analysis in terms of their general purpose, element of the communication paradigm to which they apply, and the general question they are intended to answer.\n",
            "</p>, <p>As a counterpoint, there are limits to the scope of use for the procedures that characterize content analysis. In particular, if access to the goal of analysis can be obtained by direct means without material interference, then direct measurement techniques yield better data.<sup class=\"reference\" id=\"cite_ref-23\"><a href=\"#cite_note-23\">[23]</a></sup> Thus, while content analysis attempts to quantifiably describe <em>communications</em> whose features are primarily categorical——limited usually to a nominal or ordinal scale——via selected conceptual units (the <em>unitization</em>) which are assigned values (the <em>categorization</em>) for <em>enumeration</em> while monitoring <em>intercoder reliability</em>, if instead the target quantity manifestly is already directly measurable——typically on an interval or ratio scale——especially a continuous physical quantity, then such targets usually are not listed among those needing the \"subjective\" selections and formulations of content analysis.<sup class=\"reference\" id=\"cite_ref-24\"><a href=\"#cite_note-24\">[24]</a></sup><sup class=\"reference\" id=\"cite_ref-25\"><a href=\"#cite_note-25\">[25]</a></sup><sup class=\"reference\" id=\"cite_ref-26\"><a href=\"#cite_note-26\">[26]</a></sup><sup class=\"reference\" id=\"cite_ref-27\"><a href=\"#cite_note-27\">[27]</a></sup><sup class=\"reference\" id=\"cite_ref-28\"><a href=\"#cite_note-28\">[28]</a></sup><sup class=\"reference\" id=\"cite_ref-29\"><a href=\"#cite_note-29\">[29]</a></sup><sup class=\"reference\" id=\"cite_ref-30\"><a href=\"#cite_note-30\">[30]</a></sup><sup class=\"reference\" id=\"cite_ref-31\"><a href=\"#cite_note-31\">[31]</a></sup> For example (from mixed research and clinical application), as medical images <em>communicate</em> diagnostic features to physicians, <a href=\"/wiki/Neuroimaging\" title=\"Neuroimaging\">neuroimaging</a>'s <a href=\"/wiki/Stroke\" title=\"Stroke\">stroke</a> (infarct) volume scale called ASPECTS is <em>unitized</em> as 10 qualitatively delineated (unequal) brain regions in the <a href=\"/wiki/Middle_cerebral_artery\" title=\"Middle cerebral artery\">middle cerebral artery</a> territory, which it <em>categorizes</em> as being at least partly versus not at all infarcted in order to <em>enumerate</em> the latter, with published series often assessing <em>intercoder reliability</em> by <a href=\"/wiki/Cohen%27s_kappa\" title=\"Cohen's kappa\">Cohen's kappa</a>. The foregoing <em>italicized operations</em> impose the uncredited <em>form</em> of content analysis onto an estimation of infarct extent, which instead is easily enough and more accurately measured as a volume directly on the images.<sup class=\"reference\" id=\"cite_ref-32\"><a href=\"#cite_note-32\">[32]</a></sup><sup class=\"reference\" id=\"cite_ref-33\"><a href=\"#cite_note-33\">[33]</a></sup> (\"Accuracy ... is the highest form of reliability.\"<sup class=\"reference\" id=\"cite_ref-34\"><a href=\"#cite_note-34\">[34]</a></sup>) The concomitant clinical assessment, however, by the <a href=\"/wiki/National_Institutes_of_Health_Stroke_Scale\" title=\"National Institutes of Health Stroke Scale\">National Institutes of Health Stroke Scale</a> (NIHSS) or the <a href=\"/wiki/Modified_Rankin_Scale\" title=\"Modified Rankin Scale\">modified Rankin Scale</a> (mRS), retains the necessary form of content analysis. Recognizing potential limits of content analysis across the contents of language and images alike, <a href=\"/wiki/Klaus_Krippendorff\" title=\"Klaus Krippendorff\">Klaus Krippendorff</a> affirms that \"comprehen[sion] ... may ... not conform at all to the process of classification and/or counting by which most content analyses proceed,\"<sup class=\"reference\" id=\"cite_ref-35\"><a href=\"#cite_note-35\">[35]</a></sup> suggesting that content analysis might materially distort a message.\n",
            "</p>, <p>The process of the initial coding scheme or approach to coding is contingent on the particular content analysis approach selected. Through a directed content analysis, the scholars draft a preliminary coding scheme from pre-existing theory or assumptions. While with the conventional content analysis approach, the initial coding scheme developed from the data.\n",
            "</p>, <p>With either approach above, immersing oneself into the data to obtain an overall picture is recommendable for researchers to conduct. Furthermore, identifying a consistent and clear unit of coding is vital, and researchers' choices range from a single word to several paragraphs, from texts to iconic symbols. Last, constructing the relationships between codes by sorting out them within specific categories or themes.<sup class=\"reference\" id=\"cite_ref-36\"><a href=\"#cite_note-36\">[36]</a></sup>\n",
            "</p>, <p><br/>\n",
            "</p>]\n"
          ]
        }
      ],
      "source": [
        "print(contentPTags)"
      ]
    },
    {
      "cell_type": "markdown",
      "metadata": {
        "id": "-q30EjBVOmbC"
      },
      "source": [
        "Another excursion: Why do we use enumerate() here? enumerate() takes a collection, enumerates, and returns an enumate object with both the numbers and the collection. For example, contentPTags (the collection we used here) is comprised of paragraphs. We want the paragraph number of each paragraph. And this is what enumerate() does: it returns the paragraph number and the paragraph. "
      ]
    },
    {
      "cell_type": "markdown",
      "metadata": {
        "id": "kq15Be4lOmbC"
      },
      "source": [
        "We will be adding these new texts to our DataFrame `contentParagraphsDF` so we\n",
        "will need to add 2 more columns to keep track of paragraph numbers and sources."
      ]
    },
    {
      "cell_type": "code",
      "execution_count": null,
      "metadata": {
        "id": "bTC9HDnnOmbC",
        "colab": {
          "base_uri": "https://localhost:8080/",
          "height": 990
        },
        "outputId": "801978dd-47a7-4631-fbcb-a93f69e8045e"
      },
      "outputs": [
        {
          "output_type": "execute_result",
          "data": {
            "text/html": [
              "\n",
              "  <div id=\"df-716d5680-edf2-4a72-ad97-03690f90bcde\">\n",
              "    <div class=\"colab-df-container\">\n",
              "      <div>\n",
              "<style scoped>\n",
              "    .dataframe tbody tr th:only-of-type {\n",
              "        vertical-align: middle;\n",
              "    }\n",
              "\n",
              "    .dataframe tbody tr th {\n",
              "        vertical-align: top;\n",
              "    }\n",
              "\n",
              "    .dataframe thead th {\n",
              "        text-align: right;\n",
              "    }\n",
              "</style>\n",
              "<table border=\"1\" class=\"dataframe\">\n",
              "  <thead>\n",
              "    <tr style=\"text-align: right;\">\n",
              "      <th></th>\n",
              "      <th>paragraph-text</th>\n",
              "      <th>source</th>\n",
              "      <th>paragraph-number</th>\n",
              "    </tr>\n",
              "  </thead>\n",
              "  <tbody>\n",
              "    <tr>\n",
              "      <th>0</th>\n",
              "      <td>South Asia \\n</td>\n",
              "      <td>https://en.wikipedia.org/wiki/Content_analysis</td>\n",
              "      <td>0</td>\n",
              "    </tr>\n",
              "    <tr>\n",
              "      <th>1</th>\n",
              "      <td>Middle East\\n</td>\n",
              "      <td>https://en.wikipedia.org/wiki/Content_analysis</td>\n",
              "      <td>1</td>\n",
              "    </tr>\n",
              "    <tr>\n",
              "      <th>2</th>\n",
              "      <td>Europe\\n</td>\n",
              "      <td>https://en.wikipedia.org/wiki/Content_analysis</td>\n",
              "      <td>2</td>\n",
              "    </tr>\n",
              "    <tr>\n",
              "      <th>3</th>\n",
              "      <td>North America\\n</td>\n",
              "      <td>https://en.wikipedia.org/wiki/Content_analysis</td>\n",
              "      <td>3</td>\n",
              "    </tr>\n",
              "    <tr>\n",
              "      <th>4</th>\n",
              "      <td>Content analysis is the study of documents and...</td>\n",
              "      <td>https://en.wikipedia.org/wiki/Content_analysis</td>\n",
              "      <td>4</td>\n",
              "    </tr>\n",
              "    <tr>\n",
              "      <th>5</th>\n",
              "      <td>Practices and philosophies of content analysis...</td>\n",
              "      <td>https://en.wikipedia.org/wiki/Content_analysis</td>\n",
              "      <td>5</td>\n",
              "    </tr>\n",
              "    <tr>\n",
              "      <th>6</th>\n",
              "      <td>Computers are increasingly used in content ana...</td>\n",
              "      <td>https://en.wikipedia.org/wiki/Content_analysis</td>\n",
              "      <td>6</td>\n",
              "    </tr>\n",
              "    <tr>\n",
              "      <th>7</th>\n",
              "      <td>Content analysis is best understood as a broad...</td>\n",
              "      <td>https://en.wikipedia.org/wiki/Content_analysis</td>\n",
              "      <td>7</td>\n",
              "    </tr>\n",
              "    <tr>\n",
              "      <th>8</th>\n",
              "      <td>The simplest and most objective form of conten...</td>\n",
              "      <td>https://en.wikipedia.org/wiki/Content_analysis</td>\n",
              "      <td>8</td>\n",
              "    </tr>\n",
              "    <tr>\n",
              "      <th>9</th>\n",
              "      <td>A further step in analysis is the distinction ...</td>\n",
              "      <td>https://en.wikipedia.org/wiki/Content_analysis</td>\n",
              "      <td>9</td>\n",
              "    </tr>\n",
              "    <tr>\n",
              "      <th>10</th>\n",
              "      <td>Quantitative content analysis highlights frequ...</td>\n",
              "      <td>https://en.wikipedia.org/wiki/Content_analysis</td>\n",
              "      <td>10</td>\n",
              "    </tr>\n",
              "    <tr>\n",
              "      <th>11</th>\n",
              "      <td>Siegfried Kracauer provides a critique of quan...</td>\n",
              "      <td>https://en.wikipedia.org/wiki/Content_analysis</td>\n",
              "      <td>11</td>\n",
              "    </tr>\n",
              "    <tr>\n",
              "      <th>12</th>\n",
              "      <td>With the rise of common computing facilities l...</td>\n",
              "      <td>https://en.wikipedia.org/wiki/Content_analysis</td>\n",
              "      <td>12</td>\n",
              "    </tr>\n",
              "    <tr>\n",
              "      <th>13</th>\n",
              "      <td>By having contents of communication available ...</td>\n",
              "      <td>https://en.wikipedia.org/wiki/Content_analysis</td>\n",
              "      <td>13</td>\n",
              "    </tr>\n",
              "    <tr>\n",
              "      <th>14</th>\n",
              "      <td>Computer-assisted analysis can help with large...</td>\n",
              "      <td>https://en.wikipedia.org/wiki/Content_analysis</td>\n",
              "      <td>14</td>\n",
              "    </tr>\n",
              "    <tr>\n",
              "      <th>15</th>\n",
              "      <td>Robert Weber notes: \"To make valid inferences ...</td>\n",
              "      <td>https://en.wikipedia.org/wiki/Content_analysis</td>\n",
              "      <td>15</td>\n",
              "    </tr>\n",
              "    <tr>\n",
              "      <th>16</th>\n",
              "      <td>There are five types of texts in content analy...</td>\n",
              "      <td>https://en.wikipedia.org/wiki/Content_analysis</td>\n",
              "      <td>16</td>\n",
              "    </tr>\n",
              "    <tr>\n",
              "      <th>17</th>\n",
              "      <td>Content analysis is research using the categor...</td>\n",
              "      <td>https://en.wikipedia.org/wiki/Content_analysis</td>\n",
              "      <td>17</td>\n",
              "    </tr>\n",
              "    <tr>\n",
              "      <th>18</th>\n",
              "      <td>Over the years, content analysis has been appl...</td>\n",
              "      <td>https://en.wikipedia.org/wiki/Content_analysis</td>\n",
              "      <td>18</td>\n",
              "    </tr>\n",
              "    <tr>\n",
              "      <th>19</th>\n",
              "      <td>In recent times, particularly with the advent ...</td>\n",
              "      <td>https://en.wikipedia.org/wiki/Content_analysis</td>\n",
              "      <td>19</td>\n",
              "    </tr>\n",
              "    <tr>\n",
              "      <th>20</th>\n",
              "      <td>Quantitative content analysis has enjoyed a re...</td>\n",
              "      <td>https://en.wikipedia.org/wiki/Content_analysis</td>\n",
              "      <td>20</td>\n",
              "    </tr>\n",
              "    <tr>\n",
              "      <th>21</th>\n",
              "      <td>Content analysis can also be described as stud...</td>\n",
              "      <td>https://en.wikipedia.org/wiki/Content_analysis</td>\n",
              "      <td>21</td>\n",
              "    </tr>\n",
              "    <tr>\n",
              "      <th>22</th>\n",
              "      <td>Manifest content is readily understandable at ...</td>\n",
              "      <td>https://en.wikipedia.org/wiki/Content_analysis</td>\n",
              "      <td>22</td>\n",
              "    </tr>\n",
              "    <tr>\n",
              "      <th>23</th>\n",
              "      <td>Holsti groups fifteen uses of content analysis...</td>\n",
              "      <td>https://en.wikipedia.org/wiki/Content_analysis</td>\n",
              "      <td>23</td>\n",
              "    </tr>\n",
              "    <tr>\n",
              "      <th>24</th>\n",
              "      <td>He also places these uses into the context of ...</td>\n",
              "      <td>https://en.wikipedia.org/wiki/Content_analysis</td>\n",
              "      <td>24</td>\n",
              "    </tr>\n",
              "    <tr>\n",
              "      <th>25</th>\n",
              "      <td>The following table shows fifteen uses of cont...</td>\n",
              "      <td>https://en.wikipedia.org/wiki/Content_analysis</td>\n",
              "      <td>25</td>\n",
              "    </tr>\n",
              "    <tr>\n",
              "      <th>26</th>\n",
              "      <td>As a counterpoint, there are limits to the sco...</td>\n",
              "      <td>https://en.wikipedia.org/wiki/Content_analysis</td>\n",
              "      <td>26</td>\n",
              "    </tr>\n",
              "    <tr>\n",
              "      <th>27</th>\n",
              "      <td>The process of the initial coding scheme or ap...</td>\n",
              "      <td>https://en.wikipedia.org/wiki/Content_analysis</td>\n",
              "      <td>27</td>\n",
              "    </tr>\n",
              "    <tr>\n",
              "      <th>28</th>\n",
              "      <td>With either approach above, immersing oneself ...</td>\n",
              "      <td>https://en.wikipedia.org/wiki/Content_analysis</td>\n",
              "      <td>28</td>\n",
              "    </tr>\n",
              "    <tr>\n",
              "      <th>29</th>\n",
              "      <td>\\n</td>\n",
              "      <td>https://en.wikipedia.org/wiki/Content_analysis</td>\n",
              "      <td>29</td>\n",
              "    </tr>\n",
              "  </tbody>\n",
              "</table>\n",
              "</div>\n",
              "      <button class=\"colab-df-convert\" onclick=\"convertToInteractive('df-716d5680-edf2-4a72-ad97-03690f90bcde')\"\n",
              "              title=\"Convert this dataframe to an interactive table.\"\n",
              "              style=\"display:none;\">\n",
              "        \n",
              "  <svg xmlns=\"http://www.w3.org/2000/svg\" height=\"24px\"viewBox=\"0 0 24 24\"\n",
              "       width=\"24px\">\n",
              "    <path d=\"M0 0h24v24H0V0z\" fill=\"none\"/>\n",
              "    <path d=\"M18.56 5.44l.94 2.06.94-2.06 2.06-.94-2.06-.94-.94-2.06-.94 2.06-2.06.94zm-11 1L8.5 8.5l.94-2.06 2.06-.94-2.06-.94L8.5 2.5l-.94 2.06-2.06.94zm10 10l.94 2.06.94-2.06 2.06-.94-2.06-.94-.94-2.06-.94 2.06-2.06.94z\"/><path d=\"M17.41 7.96l-1.37-1.37c-.4-.4-.92-.59-1.43-.59-.52 0-1.04.2-1.43.59L10.3 9.45l-7.72 7.72c-.78.78-.78 2.05 0 2.83L4 21.41c.39.39.9.59 1.41.59.51 0 1.02-.2 1.41-.59l7.78-7.78 2.81-2.81c.8-.78.8-2.07 0-2.86zM5.41 20L4 18.59l7.72-7.72 1.47 1.35L5.41 20z\"/>\n",
              "  </svg>\n",
              "      </button>\n",
              "      \n",
              "  <style>\n",
              "    .colab-df-container {\n",
              "      display:flex;\n",
              "      flex-wrap:wrap;\n",
              "      gap: 12px;\n",
              "    }\n",
              "\n",
              "    .colab-df-convert {\n",
              "      background-color: #E8F0FE;\n",
              "      border: none;\n",
              "      border-radius: 50%;\n",
              "      cursor: pointer;\n",
              "      display: none;\n",
              "      fill: #1967D2;\n",
              "      height: 32px;\n",
              "      padding: 0 0 0 0;\n",
              "      width: 32px;\n",
              "    }\n",
              "\n",
              "    .colab-df-convert:hover {\n",
              "      background-color: #E2EBFA;\n",
              "      box-shadow: 0px 1px 2px rgba(60, 64, 67, 0.3), 0px 1px 3px 1px rgba(60, 64, 67, 0.15);\n",
              "      fill: #174EA6;\n",
              "    }\n",
              "\n",
              "    [theme=dark] .colab-df-convert {\n",
              "      background-color: #3B4455;\n",
              "      fill: #D2E3FC;\n",
              "    }\n",
              "\n",
              "    [theme=dark] .colab-df-convert:hover {\n",
              "      background-color: #434B5C;\n",
              "      box-shadow: 0px 1px 3px 1px rgba(0, 0, 0, 0.15);\n",
              "      filter: drop-shadow(0px 1px 2px rgba(0, 0, 0, 0.3));\n",
              "      fill: #FFFFFF;\n",
              "    }\n",
              "  </style>\n",
              "\n",
              "      <script>\n",
              "        const buttonEl =\n",
              "          document.querySelector('#df-716d5680-edf2-4a72-ad97-03690f90bcde button.colab-df-convert');\n",
              "        buttonEl.style.display =\n",
              "          google.colab.kernel.accessAllowed ? 'block' : 'none';\n",
              "\n",
              "        async function convertToInteractive(key) {\n",
              "          const element = document.querySelector('#df-716d5680-edf2-4a72-ad97-03690f90bcde');\n",
              "          const dataTable =\n",
              "            await google.colab.kernel.invokeFunction('convertToInteractive',\n",
              "                                                     [key], {});\n",
              "          if (!dataTable) return;\n",
              "\n",
              "          const docLinkHtml = 'Like what you see? Visit the ' +\n",
              "            '<a target=\"_blank\" href=https://colab.research.google.com/notebooks/data_table.ipynb>data table notebook</a>'\n",
              "            + ' to learn more about interactive tables.';\n",
              "          element.innerHTML = '';\n",
              "          dataTable['output_type'] = 'display_data';\n",
              "          await google.colab.output.renderOutput(dataTable, element);\n",
              "          const docLink = document.createElement('div');\n",
              "          docLink.innerHTML = docLinkHtml;\n",
              "          element.appendChild(docLink);\n",
              "        }\n",
              "      </script>\n",
              "    </div>\n",
              "  </div>\n",
              "  "
            ],
            "text/plain": [
              "                                       paragraph-text  ... paragraph-number\n",
              "0                                       South Asia \\n  ...                0\n",
              "1                                       Middle East\\n  ...                1\n",
              "2                                            Europe\\n  ...                2\n",
              "3                                     North America\\n  ...                3\n",
              "4   Content analysis is the study of documents and...  ...                4\n",
              "5   Practices and philosophies of content analysis...  ...                5\n",
              "6   Computers are increasingly used in content ana...  ...                6\n",
              "7   Content analysis is best understood as a broad...  ...                7\n",
              "8   The simplest and most objective form of conten...  ...                8\n",
              "9   A further step in analysis is the distinction ...  ...                9\n",
              "10  Quantitative content analysis highlights frequ...  ...               10\n",
              "11  Siegfried Kracauer provides a critique of quan...  ...               11\n",
              "12  With the rise of common computing facilities l...  ...               12\n",
              "13  By having contents of communication available ...  ...               13\n",
              "14  Computer-assisted analysis can help with large...  ...               14\n",
              "15  Robert Weber notes: \"To make valid inferences ...  ...               15\n",
              "16  There are five types of texts in content analy...  ...               16\n",
              "17  Content analysis is research using the categor...  ...               17\n",
              "18  Over the years, content analysis has been appl...  ...               18\n",
              "19  In recent times, particularly with the advent ...  ...               19\n",
              "20  Quantitative content analysis has enjoyed a re...  ...               20\n",
              "21  Content analysis can also be described as stud...  ...               21\n",
              "22  Manifest content is readily understandable at ...  ...               22\n",
              "23  Holsti groups fifteen uses of content analysis...  ...               23\n",
              "24  He also places these uses into the context of ...  ...               24\n",
              "25  The following table shows fifteen uses of cont...  ...               25\n",
              "26  As a counterpoint, there are limits to the sco...  ...               26\n",
              "27  The process of the initial coding scheme or ap...  ...               27\n",
              "28  With either approach above, immersing oneself ...  ...               28\n",
              "29                                                 \\n  ...               29\n",
              "\n",
              "[30 rows x 3 columns]"
            ]
          },
          "metadata": {},
          "execution_count": 32
        }
      ],
      "source": [
        "contentParagraphsDF['source'] = [wikipedia_content_analysis] * len(contentParagraphsDF['paragraph-text'])\n",
        "contentParagraphsDF['paragraph-number'] = range(len(contentParagraphsDF['paragraph-text']))\n",
        "\n",
        "contentParagraphsDF"
      ]
    },
    {
      "cell_type": "markdown",
      "metadata": {
        "id": "W4gwpoSiOmbC"
      },
      "source": [
        "Then we can add two more columns to our `Dataframe` and define a function to\n",
        "parse\n",
        "each linked page and add its text to our DataFrame."
      ]
    },
    {
      "cell_type": "code",
      "execution_count": null,
      "metadata": {
        "id": "x4bPl7pHOmbD"
      },
      "outputs": [],
      "source": [
        "contentParagraphsDF['source-paragraph-number'] = [None] * len(contentParagraphsDF['paragraph-text'])\n",
        "contentParagraphsDF['source-paragraph-text'] = [None] * len(contentParagraphsDF['paragraph-text'])\n",
        "\n",
        "def getTextFromWikiPage(targetURL, sourceParNum, sourceText):\n",
        "    #Make a dict to store data before adding it to the DataFrame\n",
        "    parsDict = {'source' : [], 'paragraph-number' : [], 'paragraph-text' : [], 'source-paragraph-number' : [],  'source-paragraph-text' : []}\n",
        "    #Now we get the page\n",
        "    r = requests.get(targetURL)\n",
        "    soup = bs4.BeautifulSoup(r.text, 'html.parser')\n",
        "    #enumerating gives use the paragraph number\n",
        "    for parNum, pTag in enumerate(soup.body.findAll('p')):\n",
        "        #same regex as before\n",
        "        parsDict['paragraph-text'].append(re.sub(r'\\[\\d+\\]', '', pTag.text))\n",
        "        parsDict['paragraph-number'].append(parNum)\n",
        "        parsDict['source'].append(targetURL)\n",
        "        parsDict['source-paragraph-number'].append(sourceParNum)\n",
        "        parsDict['source-paragraph-text'].append(sourceText)\n",
        "    return pandas.DataFrame(parsDict)"
      ]
    },
    {
      "cell_type": "markdown",
      "metadata": {
        "id": "06YOrHrSOmbD"
      },
      "source": [
        "And run it on our list of link tags"
      ]
    },
    {
      "cell_type": "code",
      "execution_count": null,
      "metadata": {
        "id": "R_H3t8gtOmbD"
      },
      "outputs": [],
      "source": [
        "for urlTuple in otherPAgeURLS[:3]:\n",
        "    #ignore_index means the indices will not be reset after each append\n",
        "    contentParagraphsDF = contentParagraphsDF.append(getTextFromWikiPage(*urlTuple),ignore_index=True)\n",
        "contentParagraphsDF"
      ]
    },
    {
      "cell_type": "markdown",
      "metadata": {
        "id": "JFgBxV4LOmbD"
      },
      "source": [
        "\n",
        "# <font color=\"red\">Exercise 2</font>\n",
        "<font color=\"red\">Construct cells immediately below this that spider webcontent from another site with content relating to your anticipated final project. Specifically, identify urls on a core page, then follow and extract content from them into a pandas `Dataframe`. In addition, demonstrate a *recursive* spider, which follows more than one level of links (i.e., follows links from a site, then follows links on followed sites to new sites, etc.), making sure to define a reasonable endpoint so that you do not wander the web forever :-).</font>\n",
        "\n"
      ]
    },
    {
      "cell_type": "code",
      "source": [
        "# extract link and save to pandas\n",
        "\n",
        "def _get_uri(base_url, href):\n",
        "    if href.startswith('#'):\n",
        "        print('discarding anchor {}'.format(href))\n",
        "        return None\n",
        "\n",
        "    absolute_url = urljoin(base_url, href)\n",
        "    base_url_host = urlparse(base_url).hostname.replace('www.', '')\n",
        "    absolute_url_host = urlparse(absolute_url).hostname.replace('www.', '')\n",
        "\n",
        "    # skip external links\n",
        "    if absolute_url_host != base_url_host:\n",
        "        return None\n",
        "\n",
        "    return absolute_url\n",
        "\n",
        "\n",
        "def spider(start_address):\n",
        "    _crawl_page(start_address, '/', [])\n",
        "\n",
        "\n",
        "def _crawl_page(start_address, uri, followed_path):\n",
        "    path = followed_path[:]\n",
        "    if len(path) > max_depth:\n",
        "        return\n",
        "\n",
        "    path.append(uri)\n",
        "\n",
        "    # save links\n",
        "    already_visited.append(uri)\n",
        "\n",
        "    pageFull = requests.get(start_address)\n",
        "    pageText = pageFull.text\n",
        "    soup = BeautifulSoup(pageText, \"html.parser\")\n",
        "\n",
        "    for link in soup.findAll(\"a\", href=True):\n",
        "        uri = _get_uri(start_address, link.get(\"href\"))\n",
        "\n",
        "        if uri and uri not in already_visited:\n",
        "            # Recursively visit the links\n",
        "            _crawl_page(start_address, uri, path)\n",
        "\n"
      ],
      "metadata": {
        "id": "UXtmGFh_Y5PD"
      },
      "execution_count": null,
      "outputs": []
    },
    {
      "cell_type": "code",
      "source": [
        "# max level of links\n",
        "max_depth = 2\n",
        "already_visited = []\n",
        "spider(\"http://www.freeweibo.com\")"
      ],
      "metadata": {
        "id": "uRUT8ahd7ysC"
      },
      "execution_count": null,
      "outputs": []
    },
    {
      "cell_type": "code",
      "source": [
        "# covert to pandas df\n",
        "links = pandas.DataFrame(already_visited)\n",
        "print(links)"
      ],
      "metadata": {
        "id": "nREjleGj8DfB"
      },
      "execution_count": null,
      "outputs": []
    },
    {
      "cell_type": "markdown",
      "metadata": {
        "id": "dXtaSZCkOmbE"
      },
      "source": [
        "## API (Tumblr)\n",
        "\n",
        "Generally website owners do not like you scraping their sites. If done badly,\n",
        "scarping can act like a DOS attack so you should be careful how often you make\n",
        "calls to a site. Some sites want automated tools to access their data, so they\n",
        "create [application programming interface\n",
        "(APIs)](https://en.wikipedia.org/wiki/Application_programming_interface). An API\n",
        "specifies a procedure for an application (or script) to access their data. Often\n",
        "this is though a [representational state transfer\n",
        "(REST)](https://en.wikipedia.org/wiki/Representational_state_transfer) web\n",
        "service, which just means if you make correctly formatted HTTP requests they\n",
        "will return nicely formatted data.\n",
        "\n",
        "A nice example for us to study is [Tumblr](https://www.tumblr.com), they have a\n",
        "[simple RESTful API](https://www.tumblr.com/docs/en/api/v1) that allows you to\n",
        "read posts without any complicated html parsing.\n",
        "\n",
        "We can get the first 20 posts from a blog by making an http GET request to\n",
        "`'http://{blog}.tumblr.com/api/read/json'`, were `{blog}` is the name of the\n",
        "target blog. Lets try and get the posts from [http://lolcats-lol-\n",
        "cat.tumblr.com/](http://lolcats-lol-cat.tumblr.com/) (Note the blog says at the\n",
        "top 'One hour one pic lolcats', but the canonical name that Tumblr uses is in\n",
        "the URL 'lolcats-lol-cat')."
      ]
    },
    {
      "cell_type": "code",
      "execution_count": null,
      "metadata": {
        "id": "MG5_q9A6OmbE"
      },
      "outputs": [],
      "source": [
        "tumblrAPItarget = 'http://{}.tumblr.com/api/read/json'\n",
        "\n",
        "r = requests.get(tumblrAPItarget.format('lolcats-lol-cat'))\n",
        "\n",
        "print(r.text[:1000])"
      ]
    },
    {
      "cell_type": "markdown",
      "metadata": {
        "id": "fUyJcV_BOmbF"
      },
      "source": [
        "This might not look very good on first inspection, but it has far fewer angle\n",
        "braces than html, which makes it easier to parse. What we have is\n",
        "[JSON](https://en.wikipedia.org/wiki/JSON) a 'human readable' text based data\n",
        "transmission format based on javascript. Luckily, we can readily convert it to a\n",
        "python `dict`."
      ]
    },
    {
      "cell_type": "code",
      "execution_count": null,
      "metadata": {
        "id": "NAanoykvOmbF"
      },
      "outputs": [],
      "source": [
        "#We need to load only the stuff between the curly braces\n",
        "d = json.loads(r.text[len('var tumblr_api_read = '):-2])\n",
        "print(d.keys())\n",
        "print(len(d['posts']))"
      ]
    },
    {
      "cell_type": "markdown",
      "metadata": {
        "id": "qiJMc6rMOmbF"
      },
      "source": [
        "If we read the [API specification](https://www.tumblr.com/docs/en/api/v1), we\n",
        "will see there are a lot of things we can get if we add things to our GET\n",
        "request. First we can retrieve posts by their id number. Let's first get post\n",
        "`146020177084`."
      ]
    },
    {
      "cell_type": "code",
      "execution_count": null,
      "metadata": {
        "id": "BwWjv6WHOmbG"
      },
      "outputs": [],
      "source": [
        "r = requests.get(tumblrAPItarget.format('lolcats-lol-cat'), params = {'id' : 146020177084})\n",
        "d = json.loads(r.text[len('var tumblr_api_read = '):-2])\n",
        "d['posts'][0].keys()\n",
        "d['posts'][0]['photo-url-1280']\n",
        "\n",
        "with open('lolcat.gif', 'wb') as f:\n",
        "    gifRequest = requests.get(d['posts'][0]['photo-url-1280'], stream = True)\n",
        "    f.write(gifRequest.content)"
      ]
    },
    {
      "cell_type": "markdown",
      "metadata": {
        "id": "J3RRqYt-OmbG"
      },
      "source": [
        "<img src='lolcat.gif'>\n",
        "\n",
        "Such beauty; such vigor (If you can't see it you have to refresh the page). Now\n",
        "we could retrieve the text from all posts as well\n",
        "as related metadata, like the post date, caption or tags. We could also get\n",
        "links to all the images."
      ]
    },
    {
      "cell_type": "code",
      "execution_count": null,
      "metadata": {
        "id": "KM33Tbc4OmbG"
      },
      "outputs": [],
      "source": [
        "#Putting a max in case the blog has millions of images\n",
        "#The given max will be rounded up to the nearest multiple of 50\n",
        "def tumblrImageScrape(blogName, maxImages = 200):\n",
        "    #Restating this here so the function isn't dependent on any external variables\n",
        "    tumblrAPItarget = 'http://{}.tumblr.com/api/read/json'\n",
        "\n",
        "    #There are a bunch of possible locations for the photo url\n",
        "    possiblePhotoSuffixes = [1280, 500, 400, 250, 100]\n",
        "\n",
        "    #These are the pieces of information we will be gathering,\n",
        "    #at the end we will convert this to a DataFrame.\n",
        "    #There are a few other datums we could gather like the captions\n",
        "    #you can read the Tumblr documentation to learn how to get them\n",
        "    #https://www.tumblr.com/docs/en/api/v1\n",
        "    postsData = {\n",
        "        'id' : [],\n",
        "        'photo-url' : [],\n",
        "        'date' : [],\n",
        "        'tags' : [],\n",
        "        'photo-type' : []\n",
        "    }\n",
        "\n",
        "    #Tumblr limits us to a max of 50 posts per request\n",
        "    for requestNum in range(maxImages // 50):\n",
        "        requestParams = {\n",
        "            'start' : requestNum * 50,\n",
        "            'num' : 50,\n",
        "            'type' : 'photo'\n",
        "        }\n",
        "        r = requests.get(tumblrAPItarget.format(blogName), params = requestParams)\n",
        "        requestDict = json.loads(r.text[len('var tumblr_api_read = '):-2])\n",
        "        for postDict in requestDict['posts']:\n",
        "            #We are dealing with uncleaned data, we can't trust it.\n",
        "            #Specifically, not all posts are guaranteed to have the fields we want\n",
        "            try:\n",
        "                postsData['id'].append(postDict['id'])\n",
        "                postsData['date'].append(postDict['date'])\n",
        "                postsData['tags'].append(postDict['tags'])\n",
        "            except KeyError as e:\n",
        "                raise KeyError(\"Post {} from {} is missing: {}\".format(postDict['id'], blogName, e))\n",
        "\n",
        "            foundSuffix = False\n",
        "            for suffix in possiblePhotoSuffixes:\n",
        "                try:\n",
        "                    photoURL = postDict['photo-url-{}'.format(suffix)]\n",
        "                    postsData['photo-url'].append(photoURL)\n",
        "                    postsData['photo-type'].append(photoURL.split('.')[-1])\n",
        "                    foundSuffix = True\n",
        "                    break\n",
        "                except KeyError:\n",
        "                    pass\n",
        "            if not foundSuffix:\n",
        "                #Make sure your error messages are useful\n",
        "                #You will be one of the users\n",
        "                raise KeyError(\"Post {} from {} is missing a photo url\".format(postDict['id'], blogName))\n",
        "\n",
        "    return pandas.DataFrame(postsData)\n",
        "tumblrImageScrape('lolcats-lol-cat', 50)"
      ]
    },
    {
      "cell_type": "markdown",
      "metadata": {
        "id": "CswLIJBZOmbH"
      },
      "source": [
        "Now we have the urls of a bunch of images and can run OCR on them to gather\n",
        "compelling meme narratives, accompanied by cats.\n",
        "\n",
        "# Files\n",
        "\n",
        "What if the text we want isn't on a webpage? There are a many other sources of\n",
        "text available, typically organized into *files*.\n",
        "\n",
        "## Raw text (and encoding)\n",
        "\n",
        "The most basic form of storing text is as a _raw text_ document. Source code\n",
        "(`.py`, `.r`, etc) is usually raw text as are text files (`.txt`) and those with\n",
        "many other extension (e.g., .csv, .dat, etc.). Opening an unknown file with a\n",
        "text editor is often a great way of learning what the file is.\n",
        "\n",
        "We can create a text file in python with the `open()` function"
      ]
    },
    {
      "cell_type": "code",
      "execution_count": null,
      "metadata": {
        "id": "iqMbyp3oOmbH"
      },
      "outputs": [],
      "source": [
        "#example_text_file = 'sometextfile.txt'\n",
        "#stringToWrite = 'A line\\nAnother line\\nA line with a few unusual symbols \\u2421 \\u241B \\u20A0 \\u20A1 \\u20A2 \\u20A3 \\u0D60\\n'\n",
        "stringToWrite = 'A line\\nAnother line\\nA line with a few unusual symbols ␡ ␛ ₠ ₡ ₢ ₣ ൠ\\n'\n",
        "\n",
        "with open(example_text_file, mode = 'w', encoding='utf-8') as f:\n",
        "    f.write(stringToWrite)"
      ]
    },
    {
      "cell_type": "markdown",
      "metadata": {
        "id": "9ezVCruFOmbH"
      },
      "source": [
        "Notice the `encoding='utf-8'` argument, which specifies how we map the bits from\n",
        "the file to the glyphs (and whitespace characters like tab (`'\\t'`) or newline\n",
        "(`'\\n'`)) on the screen. When dealing only with latin letters, arabic numerals\n",
        "and the other symbols on America keyboards you usually do not have to worry\n",
        "about encodings as the ones used today are backwards compatible with\n",
        "[ASCII](https://en.wikipedia.org/wiki/ASCII), which gives the binary\n",
        "representation of 128 characters.\n",
        "\n",
        "Some of you, however, will want to use other characters (e.g., Chinese\n",
        "characters). To solve this there is\n",
        "[Unicode](https://en.wikipedia.org/wiki/Unicode) which assigns numbers to\n",
        "symbols, e.g., 041 is `'A'` and 03A3 is `'Σ'` (numbers starting with 0 are\n",
        "hexadecimal). Often non/beyond-ASCII characters are called Unicode characters.\n",
        "Unicode contains 1,114,112 characters, about 10\\% of which have been assigned.\n",
        "Unfortunately there are many ways used to map combinations of bits to Unicode\n",
        "symbols. The ones you are likely to encounter are called by Python _utf-8_,\n",
        "_utf-16_ and _latin-1_. _utf-8_ is the standard for Linux and Mac OS while both\n",
        "_utf-16_ and _latin-1_ are used by windows. If you use the wrong encoding,\n",
        "characters can appear wrong, sometimes change in number or Python could raise an\n",
        "exception. Lets see what happens when we open the file we just created with\n",
        "different encodings."
      ]
    },
    {
      "cell_type": "code",
      "execution_count": null,
      "metadata": {
        "id": "FNSzFZkUOmbI"
      },
      "outputs": [],
      "source": [
        "with open(example_text_file, encoding='utf-8') as f:\n",
        "    print(\"This is with the correct encoding:\")\n",
        "    print(f.read())\n",
        "\n",
        "with open(example_text_file, encoding='latin-1') as f:\n",
        "    print(\"This is with the wrong encoding:\")\n",
        "    print(f.read())"
      ]
    },
    {
      "cell_type": "markdown",
      "metadata": {
        "id": "bw8ytOqgOmbI"
      },
      "source": [
        "Notice that with _latin-1_ the unicode characters are mixed up and there are too\n",
        "many of them. You need to keep in mind encoding when obtaining text files.\n",
        "Determining the encoding can sometime involve substantial work."
      ]
    },
    {
      "cell_type": "markdown",
      "metadata": {
        "id": "bbfdy4vGOmbI"
      },
      "source": [
        "We can also load many text files at once. Lets start by looking at the Shakespeare files in the `data` directory "
      ]
    },
    {
      "cell_type": "code",
      "execution_count": null,
      "metadata": {
        "id": "sjLJ-XecOmbI"
      },
      "outputs": [],
      "source": [
        "with open('./data/Shakespeare/midsummer_nights_dream.txt') as f:\n",
        "    midsummer = f.read()\n",
        "print(midsummer[-700:])"
      ]
    },
    {
      "cell_type": "markdown",
      "metadata": {
        "id": "mRXmq-UaOmbI"
      },
      "source": [
        "By the way, depending on your working directory, you might get errors such as: [Errno 2] No such file or directory: '../data/Shakespeare/midsummer_nights_dream.txt.' Don't panic, it's nothing, just check your working directory. \n",
        "\n",
        "Then to load all the files in `./data/Shakespeare` we can use a for loop with `scandir`:"
      ]
    },
    {
      "cell_type": "code",
      "execution_count": null,
      "metadata": {
        "id": "21UaeDenOmbJ"
      },
      "outputs": [],
      "source": [
        "targetDir = './data/Shakespeare' #Change this to your own directory of texts\n",
        "shakespearText = []\n",
        "shakespearFileName = []\n",
        "\n",
        "for file in (file for file in os.scandir(targetDir) if file.is_file() and not file.name.startswith('.')):\n",
        "    with open(file.path, encoding=\"utf-8\") as f:\n",
        "        shakespearText.append(f.read())\n",
        "    shakespearFileName.append(file.name)"
      ]
    },
    {
      "cell_type": "markdown",
      "metadata": {
        "id": "BWWr9-tcOmbJ"
      },
      "source": [
        "Then we can put them all in pandas DataFrame"
      ]
    },
    {
      "cell_type": "code",
      "execution_count": null,
      "metadata": {
        "id": "Knvif7JmOmbJ"
      },
      "outputs": [],
      "source": [
        "shakespear_df = pandas.DataFrame({'text' : shakespearText}, index = shakespearFileName)\n",
        "shakespear_df"
      ]
    },
    {
      "cell_type": "markdown",
      "metadata": {
        "id": "CWKhyCfCOmbJ"
      },
      "source": [
        "Getting your text in a format like this is the first step of most analysis"
      ]
    },
    {
      "cell_type": "markdown",
      "metadata": {
        "id": "V9T2gL7UOmbJ"
      },
      "source": [
        "## PDF\n",
        "\n",
        "Another common way text will be stored is in a PDF file. First we will download\n",
        "a pdf in Python. To do that lets grab a chapter from\n",
        "_Speech and Language Processing_, chapter 21 is on Information Extraction which\n",
        "seems apt. It is stored as a pdf at [https://web.stanford.edu/~jurafsky/slp3/21.\n",
        "pdf](https://web.stanford.edu/~jurafsky/slp3/21.pdf) although we are downloading\n",
        "from a copy just in case Jurafsky changes their website."
      ]
    },
    {
      "cell_type": "code",
      "execution_count": null,
      "metadata": {
        "id": "zv1NpgUkOmbJ"
      },
      "outputs": [],
      "source": [
        "#information_extraction_pdf = 'https://github.com/KnowledgeLab/content_analysis/raw/data/21.pdf'\n",
        "\n",
        "infoExtractionRequest = requests.get(information_extraction_pdf, stream=True)\n",
        "print(infoExtractionRequest.text[:1000])"
      ]
    },
    {
      "cell_type": "markdown",
      "metadata": {
        "id": "pZcS8uBlOmbJ"
      },
      "source": [
        "It says `'pdf'`, so thats a good sign. The rest though looks like we are having\n",
        "issues with an encoding. The random characters are not caused by our encoding\n",
        "being wrong, however. They are cause by there not being an encoding for those\n",
        "parts at all. PDFs are nominally binary files, meaning there are sections of\n",
        "binary that are specific to pdf and nothing else so you need something that\n",
        "knows about pdf to read them. To do that we will be using\n",
        "[`PyPDF2`](https://github.com/mstamy2/PyPDF2), a PDF processing library for\n",
        "Python 3.\n",
        "\n",
        "\n",
        "Because PDFs are a very complicated file format pdfminer requires a large amount\n",
        "of boilerplate code to extract text, we have written a function that takes in an\n",
        "open PDF file and returns the text so you don't have to."
      ]
    },
    {
      "cell_type": "code",
      "execution_count": null,
      "metadata": {
        "id": "G-NK0_u0OmbK"
      },
      "outputs": [],
      "source": [
        "def readPDF(pdfFile):\n",
        "    #Based on code from http://stackoverflow.com/a/20905381/4955164\n",
        "    #Using utf-8, if there are a bunch of random symbols try changing this\n",
        "    codec = 'utf-8'\n",
        "    rsrcmgr = pdfminer.pdfinterp.PDFResourceManager()\n",
        "    retstr = io.StringIO()\n",
        "    layoutParams = pdfminer.layout.LAParams()\n",
        "    device = pdfminer.converter.TextConverter(rsrcmgr, retstr, laparams = layoutParams, codec = codec)\n",
        "    #We need a device and an interpreter\n",
        "    interpreter = pdfminer.pdfinterp.PDFPageInterpreter(rsrcmgr, device)\n",
        "    password = ''\n",
        "    maxpages = 0\n",
        "    caching = True\n",
        "    pagenos=set()\n",
        "    for page in pdfminer.pdfpage.PDFPage.get_pages(pdfFile, pagenos, maxpages=maxpages, password=password,caching=caching, check_extractable=True):\n",
        "        interpreter.process_page(page)\n",
        "    device.close()\n",
        "    returnedString = retstr.getvalue()\n",
        "    retstr.close()\n",
        "    return returnedString"
      ]
    },
    {
      "cell_type": "markdown",
      "metadata": {
        "id": "4z-HjO90OmbK"
      },
      "source": [
        "First we need to take the response object and convert it into a 'file like'\n",
        "object so that pdfminer can read it. To do this we will use `io`'s `BytesIO`."
      ]
    },
    {
      "cell_type": "code",
      "execution_count": null,
      "metadata": {
        "id": "sM0uY2utOmbK"
      },
      "outputs": [],
      "source": [
        "infoExtractionBytes = io.BytesIO(infoExtractionRequest.content)"
      ]
    },
    {
      "cell_type": "markdown",
      "metadata": {
        "id": "stf5WQdeOmbK"
      },
      "source": [
        "Now we can give it to pdfminer."
      ]
    },
    {
      "cell_type": "code",
      "execution_count": null,
      "metadata": {
        "id": "iuUIzn_UOmbK"
      },
      "outputs": [],
      "source": [
        "print(readPDF(infoExtractionBytes)[:550])"
      ]
    },
    {
      "cell_type": "markdown",
      "metadata": {
        "id": "-AldBWnAOmbK"
      },
      "source": [
        "From here we can either look at the full text or fiddle with our PDF reader and\n",
        "get more information about individual blocks of text.\n",
        "\n",
        "## Word Docs\n",
        "\n",
        "The other type of document you are likely to encounter is the `.docx`, these are\n",
        "actually a version of [XML](https://en.wikipedia.org/wiki/Office_Open_XML), just\n",
        "like HTML, and like HTML we will use a specialized parser.\n",
        "\n",
        "For this class we will use [`python-docx`](https://python-\n",
        "docx.readthedocs.io/en/latest/) which provides a nice simple interface for\n",
        "reading `.docx` files"
      ]
    },
    {
      "cell_type": "code",
      "execution_count": null,
      "metadata": {
        "id": "HZwVUc8POmbK"
      },
      "outputs": [],
      "source": [
        "#example_docx = 'https://github.com/KnowledgeLab/content_analysis/raw/data/example_doc.docx'\n",
        "\n",
        "r = requests.get(example_docx, stream=True)\n",
        "d = docx.Document(io.BytesIO(r.content))\n",
        "for paragraph in d.paragraphs[:7]:\n",
        "    print(paragraph.text)"
      ]
    },
    {
      "cell_type": "markdown",
      "metadata": {
        "id": "Zo8XdsmpOmbL"
      },
      "source": [
        "This procedure uses the `io.BytesIO` class again, since `docx.Document` expects\n",
        "a file. Another way to do it is to save the document to a file and then read it\n",
        "like any other file. If we do this we can either delete the file afterwords, or\n",
        "save it and avoid downloading the following time.\n",
        "\n",
        "This function is useful as a part of many different tasks so it and others like it will be added to the helper package `lucem_illud` so we can use it later without having to retype it."
      ]
    },
    {
      "cell_type": "code",
      "execution_count": null,
      "metadata": {
        "id": "H0LzxTw-OmbL"
      },
      "outputs": [],
      "source": [
        "def downloadIfNeeded(targetURL, outputFile, **openkwargs):\n",
        "    if not os.path.isfile(outputFile):\n",
        "        outputDir = os.path.dirname(outputFile)\n",
        "        #This function is a more general os.mkdir()\n",
        "        if len(outputDir) > 0:\n",
        "            os.makedirs(outputDir, exist_ok = True)\n",
        "        r = requests.get(targetURL, stream=True)\n",
        "        #Using a closure like this is generally better than having to\n",
        "        #remember to close the file. There are ways to make this function\n",
        "        #work as a closure too\n",
        "        with open(outputFile, 'wb') as f:\n",
        "            f.write(r.content)\n",
        "    return open(outputFile, **openkwargs)"
      ]
    },
    {
      "cell_type": "markdown",
      "metadata": {
        "id": "BTtnnzAyOmbL"
      },
      "source": [
        "This function will download, save and open `outputFile` as `outputFile` or just\n",
        "open it if `outputFile` exists. By default `open()` will open the file as read\n",
        "only text with the local encoding, which may cause issues if its not a text\n",
        "file."
      ]
    },
    {
      "cell_type": "code",
      "execution_count": null,
      "metadata": {
        "id": "l4F3q0wpOmbL"
      },
      "outputs": [],
      "source": [
        "try:\n",
        "    d = docx.Document(downloadIfNeeded(example_docx, example_docx_save))\n",
        "except Exception as e:\n",
        "    print(e)"
      ]
    },
    {
      "cell_type": "markdown",
      "metadata": {
        "id": "8jy-hEavOmbL"
      },
      "source": [
        "We need to tell `open()` to read in binary mode (`'rb'`), this is why we added\n",
        "`**openkwargs`, this allows us to pass any keyword arguments (kwargs) from\n",
        "`downloadIfNeeded` to `open()`."
      ]
    },
    {
      "cell_type": "code",
      "execution_count": null,
      "metadata": {
        "id": "V9An1Z_QOmbL"
      },
      "outputs": [],
      "source": [
        "d = docx.Document(downloadIfNeeded(example_docx, example_docx_save, mode = 'rb'))\n",
        "for paragraph in d.paragraphs[:7]:\n",
        "    print(paragraph.text)"
      ]
    },
    {
      "cell_type": "markdown",
      "metadata": {
        "id": "AECbTJunOmbL"
      },
      "source": [
        "Now we can read the file with `docx.Document` and not have to wait for it to be\n",
        "downloaded every time."
      ]
    },
    {
      "cell_type": "markdown",
      "metadata": {
        "id": "V_d35FzzOmbM"
      },
      "source": [
        "\n",
        "# <font color=\"red\">Exercise 3</font>\n",
        "<font color=\"red\">Construct cells immediately below this that extract and organize textual content from text, PDF or Word into a pandas dataframe.</font>\n"
      ]
    },
    {
      "cell_type": "markdown",
      "source": [
        "It will be helful to have a sample of uncensored posts from Sina Weibo, to compare with the censored posts. Scraping posts from Chinese social media like Sina Weibo is generally very difficult, since the sites often adopts many anti-scraping strategies. Luckily, there are some scraping softwares out there that can do the work for us and complie the output to a nice txt/csv format.\n",
        "\n",
        "Here I upload a sample of uncensored posts from Sina Weibo containing the keyword \"xiuxian/修宪“ (the consitutional amendment) that are posted on March 11th, 2018, the date when the amendment was approved."
      ],
      "metadata": {
        "id": "ruKZwXhoSEqm"
      }
    },
    {
      "cell_type": "code",
      "source": [
        "# load data\n",
        "xiuxian_wb = '/content/sample_data/xiuxian_wb.txt'\n",
        "\n",
        "wb_posts = []\n",
        "with open(xiuxian_wb, mode = 'r', encoding='utf-16') as f:\n",
        "  for line in f:\n",
        "    wb_posts.append(line)\n"
      ],
      "metadata": {
        "id": "-UWwAhg9XbhB"
      },
      "execution_count": 48,
      "outputs": []
    },
    {
      "cell_type": "code",
      "source": [
        "all_wb_posts = []\n",
        "\n",
        "for p in wb_posts:\n",
        "  d = {}\n",
        "  # seperate username and content\n",
        "  d[\"username\"] = p.split('\\t', 1)[0]\n",
        "  content = p.split('\\t', 1)[1]\n",
        "  # clean text\n",
        "  content = re.sub(\"http://[a-zA-z./\\d]*\",\"\",content) # remove url\n",
        "  content = re.sub(\"\\[.{0,12}\\]\",\"\",content) # remove emoji\n",
        "  content = re.sub(\"【.{0,30}】\",\"\",content) # remove tag\n",
        "  content = re.sub(\"#.{0,30}#\",\"\",content)\n",
        "  content = re.sub(\"\\s\",\"\",content) # remove space\n",
        "  content = re.sub(\"\\u200b\",\"\",content)\n",
        "  content = re.sub(\"O\",\" \",content)\n",
        "  d[\"content\"] = content\n",
        "  all_wb_posts.append(d)\n"
      ],
      "metadata": {
        "id": "leps3BtmIRU_"
      },
      "execution_count": 54,
      "outputs": []
    },
    {
      "cell_type": "code",
      "source": [
        "# convert to pandas df\n",
        "wb_posts_df = pandas.DataFrame(data=all_wb_posts)\n",
        "print(wb_posts_df)"
      ],
      "metadata": {
        "colab": {
          "base_uri": "https://localhost:8080/"
        },
        "id": "qVblD1tBO9Ak",
        "outputId": "f2f48b7a-0fbc-4b53-8f86-1d6a592e5bbf"
      },
      "execution_count": 55,
      "outputs": [
        {
          "output_type": "stream",
          "name": "stdout",
          "text": [
            "          username                                            content\n",
            "0         内蒙古广播电视台  环球时报社评:中国修宪无须与西方政治体制“对表” 环球时报社评:中国修宪无须与西方政治体制“对表”\n",
            "1      日照市义务工作者联合会                                          网页链接@百度新闻\n",
            "2             湘潭在线        关于修宪的重大意义，人民日报这篇社论说透了 关于修宪的重大意义，人民日报这篇社论说透了\n",
            "3            山西新闻网        关于修宪的重大意义，人民日报这篇社论说透了 关于修宪的重大意义，人民日报这篇社论说透了\n",
            "4             环球时报                               社评：中国修宪无须与西方政治体制“对表”\n",
            "5             上饶之窗                              关于修宪的重大意义，人民日报这篇社论说透了\n",
            "6            南宁新闻网        关于修宪的重大意义，人民日报这篇社论说透了 关于修宪的重大意义，人民日报这篇社论说透了\n",
            "7            荆门新闻网        关于修宪的重大意义，人民日报这篇社论说透了 关于修宪的重大意义，人民日报这篇社论说透了\n",
            "8   黔西南广播电视台官方认证微博                            黔西南：干部群众坚决拥护中央修宪建议 网页链接\n",
            "9              南通网  发布了头条文章：《宪法修正案表决通过！关于修宪的重大意义，这篇社论说透了》 宪法修正案表决通...\n",
            "10            南通日报  发布了头条文章：《宪法修正案表决通过！关于修宪的重大意义，这篇社论说透了》 宪法修正案表决通...\n",
            "11            厦门广电                 via人民日报详情请戳： 关于修宪的重大意义，人民日报这篇社论说透了\n",
            "12            CGTN  \"TojudgebythewhirlwindofWesternreactions,oneco...\n",
            "13        城市晚报官方微博        关于修宪的重大意义，人民日报这篇社论说透了 关于修宪的重大意义，人民日报这篇社论说透了\n",
            "14           南充新闻网        关于修宪的重大意义，人民日报这篇社论说透了 关于修宪的重大意义，人民日报这篇社论说透了\n",
            "15           贵州农经网        关于修宪的重大意义，人民日报这篇社论说透了 关于修宪的重大意义，人民日报这篇社论说透了\n",
            "16            丁青检察                      我发表了头条文章:《成功修宪》 成功修宪2昌都地区·丁青县\n",
            "17       太原新闻网官方微博        关于修宪的重大意义，人民日报这篇社论说透了 关于修宪的重大意义，人民日报这篇社论说透了\n",
            "18           中国甘肃网        关于修宪的重大意义，人民日报这篇社论说透了 关于修宪的重大意义，人民日报这篇社论说透了\n",
            "19        百万庄通讯社官微  十三届全国人大一次会议秘书处法案组组长、全国人大常委会法工委主任沈春耀表示，这次修宪在第一章...\n",
            "20         中国兰州网微博                              关于修宪的重大意义，人民日报这篇社论说透了\n",
            "21           佛山新闻网        关于修宪的重大意义，人民日报这篇社论说透了 关于修宪的重大意义，人民日报这篇社论说透了\n",
            "22           南昌新闻网        关于修宪的重大意义，人民日报这篇社论说透了 关于修宪的重大意义，人民日报这篇社论说透了\n",
            "23            扬子晚报        关于修宪的重大意义，人民日报这篇社论说透了 关于修宪的重大意义，人民日报这篇社论说透了\n",
            "24           每日甘肃网        关于修宪的重大意义，人民日报这篇社论说透了 关于修宪的重大意义，人民日报这篇社论说透了\n",
            "25          内蒙古新闻网  第十三届全国人民代表大会第一次会议，表决通过了宪法修正案草案。这是时代大势所趋、事业发展所需...\n",
            "26             商都网  关于修宪的重大意义，人民日报这篇社论说透了九鼎重器，百炼乃成。第十三届全国人民代表大会第一次...\n",
            "27            新天水网        关于修宪的重大意义，人民日报这篇社论说透了 关于修宪的重大意义，人民日报这篇社论说透了\n",
            "28            西城九三        关于修宪的重大意义，人民日报这篇社论说透了 关于修宪的重大意义，人民日报这篇社论说透了\n",
            "29            正北方网        关于修宪的重大意义，人民日报这篇社论说透了 关于修宪的重大意义，人民日报这篇社论说透了\n",
            "30           宁夏新闻网  九鼎重器，百炼乃成。第十三届全国人民代表大会第一次会议，表决通过了宪法修正案草案。这是时代大...\n",
            "31            网信白银                              关于修宪的重大意义，人民日报这篇社论说透了\n",
            "32            新疆日报        关于修宪的重大意义，人民日报这篇社论说透了 关于修宪的重大意义，人民日报这篇社论说透了\n",
            "33           中国台湾网  九鼎重器，百炼乃成。第十三届全国人民代表大会第一次会议，表决通过了宪法修正案草案。这是时代大...\n",
            "34       东北网新闻官方微博        关于修宪的重大意义，人民日报这篇社论说透了 关于修宪的重大意义，人民日报这篇社论说透了\n",
            "35             中国网  九鼎重器，百炼乃成。第十三届全国人民代表大会第一次会议，表决通过了宪法修正案草案。这是时代大...\n",
            "36             南海网        关于修宪的重大意义，人民日报这篇社论说透了 关于修宪的重大意义，人民日报这篇社论说透了\n",
            "37           东莞阳光网        关于修宪的重大意义，人民日报这篇社论说透了 关于修宪的重大意义，人民日报这篇社论说透了\n",
            "38         内蒙古新闻广播               为民族复兴提供有力宪法保障。 关于修宪的重大意义，人民日报这篇社论说透了\n",
            "39           中国军视网  十三届全国人大一次会议第三次全体会议11日下午经投票表决，通过了《中华人民共和国宪法修正案》...\n",
            "40        内蒙古广播电视台        关于修宪的重大意义，人民日报这篇社论说透了 关于修宪的重大意义，人民日报这篇社论说透了\n",
            "41         永安镇丁庙小学  要把全面实施宪法作为基础性工作和首要任务。”他认为，宪法修改的过程，也是一次向全社会普及宪法...\n",
            "42        内蒙古广播电视台  代表委员热烈讨论宪法修正案草案:修宪呼应改革发展实践 代表委员热烈讨论宪法修正案草案:修宪呼...\n",
            "43          抚州南城发布                                               网页链接\n"
          ]
        }
      ]
    },
    {
      "cell_type": "markdown",
      "source": [
        "# <font color=\"red\">Exercise 4</font>\n",
        "<font color=\"red\">In the two cells immediately following, describe a possible project (e.g., it might end up being your final project, but need not be if you are still searching): __WHAT__ you will analyze--the texts you will select and the social game, world and actors you intend to learn about through your analysis (<100 words); __WHY__ you will analyze these texts to learn about that context--justify the rationale behind your proposed sample design for this project, based on the readings. What is the social game, social work, or social actors about whom you are seeking to make inferences? What are the virtues of your proposed sample with respect to your research questions? What are its limitations? What are alternatives? What would be a reasonable path to \"scale up\" your sample for further analysis (i.e., high-profile publication)? (<150 words)? [__Note__: your individual or collective project will change over the course of the quarter as new data and/or analysis opportunities arise or if old ones fade away.]</font>"
      ],
      "metadata": {
        "id": "d1TZsRUixXxh"
      }
    },
    {
      "cell_type": "markdown",
      "source": [
        "# What?\n",
        "\n",
        "The main hypothesis I'm testing in this project is that authoritarian leaders have a high tolerance for critiques on their provision of public goods but has a low tolerance for critiques on the their backsliding actions. I plan to focus on China as my empirical case and crape censored and uncensored posts on Chinese social media related to a selection of events related to public goods provision and the leaders' backsliding behaviors. My data source is freeweibo(www.freeweibo.com), which has been public subsamples of censored and uncensored posts from Sina Weibo(www.weibo.com). Essentially, I will compare the ratio of the posts that are censored under each category, and contextual differences(for instance, whether the posts expresses support or objecion for governemnt polices).\n"
      ],
      "metadata": {
        "id": "zfLNtcyrxoz2"
      }
    },
    {
      "cell_type": "markdown",
      "source": [
        "# Why?\n",
        "\n",
        "I chose to use data from Sina Weibo and freeweibo becuase: First, they are good data sources that allow us to directly observe the censorship outcome of the Chinese government. Second, they are easily accesible (getting access to cenosored posts is not always easy). With that being said, there are a few limitations. First, freeweibo only makes public a *subsample* of all censored posts, which would like add noise to the analysis because of the limited size of the censored posts. Second, it is possible that censorship we observe from Sina Weibo is not a result of the Censorship decisions of the Chinese government, but rather the social meida platform itself (for eg, Sina Weibo may fear that circulation of sensitive content would lead to some sort of punishment from the Chinese governemnt). To solve for these issues, it will be helpful if I could set up an API to monitor the activities on various social media platforms in China, in which I could obtain a more balanced and larger sample across different social media platforms."
      ],
      "metadata": {
        "id": "viaSJK7jxuKd"
      }
    },
    {
      "cell_type": "markdown",
      "metadata": {
        "id": "Bwyfg2yrOmbM"
      },
      "source": [
        "### Sources:\n",
        "\n",
        "Other popular sources for internet data:\n",
        "\n",
        "[reddit](https://www.reddit.com/) - https://praw.readthedocs.io/en/v2.1.21/\n",
        "\n",
        "[twitter](https://twitter.com/) - https://pypi.org/project/python-twitter/\n",
        "\n",
        "[project gutenburg](https://www.gutenberg.org/) - https://github.com/ageitgey/Gutenberg \n",
        "\n"
      ]
    }
  ],
  "metadata": {
    "kernelspec": {
      "display_name": "Python 3 (ipykernel)",
      "language": "python",
      "name": "python3"
    },
    "language_info": {
      "codemirror_mode": {
        "name": "ipython",
        "version": 3
      },
      "file_extension": ".py",
      "mimetype": "text/x-python",
      "name": "python",
      "nbconvert_exporter": "python",
      "pygments_lexer": "ipython3",
      "version": "3.9.7"
    },
    "colab": {
      "name": "1-Measuring-Meaning-and-Sampling.ipynb",
      "provenance": [],
      "collapsed_sections": [
        "dXtaSZCkOmbE",
        "V9T2gL7UOmbJ",
        "-AldBWnAOmbK",
        "Bwyfg2yrOmbM"
      ]
    }
  },
  "nbformat": 4,
  "nbformat_minor": 0
}